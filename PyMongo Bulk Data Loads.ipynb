{
 "cells": [
  {
   "cell_type": "markdown",
   "metadata": {},
   "source": [
    "# Inserting multiple documents"
   ]
  },
  {
   "cell_type": "code",
   "execution_count": 1,
   "metadata": {
    "collapsed": true
   },
   "outputs": [],
   "source": [
    "import pymongo\n",
    "cli = pymongo.MongoClient()\n",
    "db = cli.test"
   ]
  },
  {
   "cell_type": "code",
   "execution_count": 2,
   "metadata": {
    "collapsed": false
   },
   "outputs": [],
   "source": [
    "videos = [\n",
    "    {'title': 'Python Design Patterns'},\n",
    "    {'title': 'Bootstrap 4 Projects'} ,\n",
    "    {'title': 'Ethical Hacking for Beginners'},\n",
    "    {'title': 'Expert Ruby on Rails 5'}\n",
    "]"
   ]
  },
  {
   "cell_type": "code",
   "execution_count": 3,
   "metadata": {
    "collapsed": true
   },
   "outputs": [],
   "source": [
    "db.packt_videos.drop()"
   ]
  },
  {
   "cell_type": "code",
   "execution_count": 4,
   "metadata": {
    "collapsed": true
   },
   "outputs": [],
   "source": [
    "result = db.packt_videos.insert_many(videos)"
   ]
  },
  {
   "cell_type": "code",
   "execution_count": 5,
   "metadata": {
    "collapsed": false
   },
   "outputs": [
    {
     "data": {
      "text/plain": [
       "<pymongo.results.InsertManyResult at 0x10db8b5e8>"
      ]
     },
     "execution_count": 5,
     "metadata": {},
     "output_type": "execute_result"
    }
   ],
   "source": [
    "result"
   ]
  },
  {
   "cell_type": "code",
   "execution_count": 6,
   "metadata": {
    "collapsed": false
   },
   "outputs": [
    {
     "data": {
      "text/plain": [
       "[ObjectId('58deb2e64e92acbdd4caf314'),\n",
       " ObjectId('58deb2e64e92acbdd4caf315'),\n",
       " ObjectId('58deb2e64e92acbdd4caf316'),\n",
       " ObjectId('58deb2e64e92acbdd4caf317')]"
      ]
     },
     "execution_count": 6,
     "metadata": {},
     "output_type": "execute_result"
    }
   ],
   "source": [
    "result.inserted_ids"
   ]
  },
  {
   "cell_type": "code",
   "execution_count": 7,
   "metadata": {
    "collapsed": false
   },
   "outputs": [
    {
     "data": {
      "text/plain": [
       "[{'_id': ObjectId('58deb2e64e92acbdd4caf314'),\n",
       "  'title': 'Python Design Patterns'},\n",
       " {'_id': ObjectId('58deb2e64e92acbdd4caf315'),\n",
       "  'title': 'Bootstrap 4 Projects'},\n",
       " {'_id': ObjectId('58deb2e64e92acbdd4caf316'),\n",
       "  'title': 'Ethical Hacking for Beginners'},\n",
       " {'_id': ObjectId('58deb2e64e92acbdd4caf317'),\n",
       "  'title': 'Expert Ruby on Rails 5'}]"
      ]
     },
     "execution_count": 7,
     "metadata": {},
     "output_type": "execute_result"
    }
   ],
   "source": [
    "list(db.packt_videos.find())"
   ]
  },
  {
   "cell_type": "markdown",
   "metadata": {},
   "source": [
    "# Compound Bulk Operations"
   ]
  },
  {
   "cell_type": "code",
   "execution_count": 8,
   "metadata": {
    "collapsed": false
   },
   "outputs": [],
   "source": [
    "videos = [\n",
    "    {'title': 'Python Design Patterns', 'authors': ['Gergo Bogdan']},\n",
    "    {'title': 'Bootstrap 4 Projects', 'authors': ['Aaron Vanston']}, \n",
    "    {'title': 'Expert Ruby on Rails 5', 'authors': ['Fred Heath']},\n",
    "    {'title': 'OpenFrame works Interactivity', 'authors': ['Denis Perevalov', 'Igor Tatarnikov']}\n",
    "]"
   ]
  },
  {
   "cell_type": "code",
   "execution_count": 9,
   "metadata": {
    "collapsed": true
   },
   "outputs": [],
   "source": [
    "bulk = db.packt_videos.initialize_ordered_bulk_op()"
   ]
  },
  {
   "cell_type": "code",
   "execution_count": 10,
   "metadata": {
    "collapsed": false
   },
   "outputs": [
    {
     "data": {
      "text/plain": [
       "{'nInserted': 0,\n",
       " 'nMatched': 3,\n",
       " 'nModified': 3,\n",
       " 'nRemoved': 0,\n",
       " 'nUpserted': 1,\n",
       " 'upserted': [{'_id': ObjectId('58deb2e78b8e4054555bfc4f'), 'index': 3}],\n",
       " 'writeConcernErrors': [],\n",
       " 'writeErrors': []}"
      ]
     },
     "execution_count": 10,
     "metadata": {},
     "output_type": "execute_result"
    }
   ],
   "source": [
    "for video in videos:\n",
    "    op = bulk.find({'title': video['title']})\n",
    "    op = op.upsert()\n",
    "    op = op.update({'$addToSet': {'authors': {'$each': video['authors']}}})\n",
    "result = bulk.execute()\n",
    "result"
   ]
  },
  {
   "cell_type": "code",
   "execution_count": 11,
   "metadata": {
    "collapsed": false
   },
   "outputs": [
    {
     "data": {
      "text/plain": [
       "[{'authors': ['Gergo Bogdan'], 'title': 'Python Design Patterns'},\n",
       " {'authors': ['Aaron Vanston'], 'title': 'Bootstrap 4 Projects'},\n",
       " {'title': 'Ethical Hacking for Beginners'},\n",
       " {'authors': ['Fred Heath'], 'title': 'Expert Ruby on Rails 5'},\n",
       " {'authors': ['Denis Perevalov', 'Igor Tatarnikov'],\n",
       "  'title': 'OpenFrame works Interactivity'}]"
      ]
     },
     "execution_count": 11,
     "metadata": {},
     "output_type": "execute_result"
    }
   ],
   "source": [
    "list(db.packt_videos.find({}, {'_id': 0}))"
   ]
  },
  {
   "cell_type": "markdown",
   "metadata": {},
   "source": [
    "# Handling errors"
   ]
  },
  {
   "cell_type": "code",
   "execution_count": 12,
   "metadata": {
    "collapsed": false
   },
   "outputs": [],
   "source": [
    "doc = db.packt_videos.find_one()"
   ]
  },
  {
   "cell_type": "code",
   "execution_count": 13,
   "metadata": {
    "collapsed": false
   },
   "outputs": [
    {
     "name": "stdout",
     "output_type": "stream",
     "text": [
      "{'nInserted': 0,\n",
      " 'nMatched': 0,\n",
      " 'nModified': 0,\n",
      " 'nRemoved': 0,\n",
      " 'nUpserted': 0,\n",
      " 'upserted': [],\n",
      " 'writeConcernErrors': [],\n",
      " 'writeErrors': [{'code': 11000,\n",
      "                  'errmsg': 'E11000 duplicate key error collection: '\n",
      "                            'test.packt_videos index: _id_ dup key: { : '\n",
      "                            \"ObjectId('58deb2e64e92acbdd4caf314') }\",\n",
      "                  'index': 0,\n",
      "                  'op': {'_id': ObjectId('58deb2e64e92acbdd4caf314'),\n",
      "                         'authors': ['Gergo Bogdan'],\n",
      "                         'title': 'Python Design Patterns'}}]}\n"
     ]
    }
   ],
   "source": [
    "from pprint import pprint\n",
    "\n",
    "bulk = db.packt_videos.initialize_ordered_bulk_op()\n",
    "bulk.insert(doc)\n",
    "try:\n",
    "    result = bulk.execute()\n",
    "    print('success')\n",
    "except pymongo.errors.BulkWriteError as bwe:\n",
    "    pprint(bwe.details)"
   ]
  },
  {
   "cell_type": "code",
   "execution_count": 14,
   "metadata": {
    "collapsed": true
   },
   "outputs": [],
   "source": [
    "bulk = db.packt_videos.initialize_unordered_bulk_op()"
   ]
  },
  {
   "cell_type": "code",
   "execution_count": 15,
   "metadata": {
    "collapsed": false
   },
   "outputs": [
    {
     "data": {
      "text/plain": [
       "{'nInserted': 0,\n",
       " 'nMatched': 4,\n",
       " 'nModified': 0,\n",
       " 'nRemoved': 0,\n",
       " 'nUpserted': 0,\n",
       " 'upserted': [],\n",
       " 'writeConcernErrors': [],\n",
       " 'writeErrors': []}"
      ]
     },
     "execution_count": 15,
     "metadata": {},
     "output_type": "execute_result"
    }
   ],
   "source": [
    "for video in videos:\n",
    "    op = bulk.find({'title': video['title']})\n",
    "    op = op.upsert()\n",
    "    op = op.update({'$addToSet': {'authors': {'$each': video['authors']}}})\n",
    "result = bulk.execute()\n",
    "result"
   ]
  },
  {
   "cell_type": "code",
   "execution_count": null,
   "metadata": {
    "collapsed": true
   },
   "outputs": [],
   "source": []
  }
 ],
 "metadata": {
  "kernelspec": {
   "display_name": "Python 3",
   "language": "python",
   "name": "python3"
  },
  "language_info": {
   "codemirror_mode": {
    "name": "ipython",
    "version": 3
   },
   "file_extension": ".py",
   "mimetype": "text/x-python",
   "name": "python",
   "nbconvert_exporter": "python",
   "pygments_lexer": "ipython3",
   "version": "3.6.0"
  }
 },
 "nbformat": 4,
 "nbformat_minor": 2
}
