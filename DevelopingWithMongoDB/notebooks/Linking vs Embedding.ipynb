{
 "cells": [
  {
   "cell_type": "code",
   "execution_count": null,
   "metadata": {
    "collapsed": true,
    "deletable": true,
    "editable": true
   },
   "outputs": [],
   "source": [
    "import pymongo\n",
    "cli = pymongo.MongoClient()\n",
    "db = cli.test"
   ]
  },
  {
   "cell_type": "markdown",
   "metadata": {
    "deletable": true,
    "editable": true
   },
   "source": [
    "# Approach 1: Pure linking"
   ]
  },
  {
   "cell_type": "code",
   "execution_count": null,
   "metadata": {
    "collapsed": false,
    "deletable": true,
    "editable": true
   },
   "outputs": [],
   "source": [
    "posts = db.posts\n",
    "comments = db.comments\n",
    "posts.drop()\n",
    "comments.drop()\n",
    "comments.create_index('post_id')"
   ]
  },
  {
   "cell_type": "code",
   "execution_count": null,
   "metadata": {
    "collapsed": true,
    "deletable": true,
    "editable": true
   },
   "outputs": [],
   "source": [
    "def make_post(title, author, text):\n",
    "    result = posts.insert_one({\n",
    "        'title': title,\n",
    "        'author': author,\n",
    "        'text': text\n",
    "    })\n",
    "    return result.inserted_id"
   ]
  },
  {
   "cell_type": "code",
   "execution_count": null,
   "metadata": {
    "collapsed": false,
    "deletable": true,
    "editable": true
   },
   "outputs": [],
   "source": [
    "def make_comment(post_id, author, text):\n",
    "    result = comments.insert_one({\n",
    "        'post_id': post_id,\n",
    "        'author': author,\n",
    "        'text': text\n",
    "    })\n",
    "    return result.inserted_id"
   ]
  },
  {
   "cell_type": "code",
   "execution_count": null,
   "metadata": {
    "collapsed": true,
    "deletable": true,
    "editable": true
   },
   "outputs": [],
   "source": [
    "def get_post_with_comments(post_id):\n",
    "    post = posts.find_one({'_id': post_id})\n",
    "    comments_ = list(comments.find({'post_id': post_id}))\n",
    "    return dict(post=post, comments=comments_)"
   ]
  },
  {
   "cell_type": "code",
   "execution_count": null,
   "metadata": {
    "collapsed": false,
    "deletable": true,
    "editable": true
   },
   "outputs": [],
   "source": [
    "post_id = make_post(\n",
    "    title='First post', author='Rick', text='My very first post')\n",
    "post_id"
   ]
  },
  {
   "cell_type": "code",
   "execution_count": null,
   "metadata": {
    "collapsed": true,
    "deletable": true,
    "editable": true
   },
   "outputs": [],
   "source": [
    "comment_id = make_comment(\n",
    "    post_id=post_id,\n",
    "    author='Nancy',\n",
    "    text='This is an uninteresting post')"
   ]
  },
  {
   "cell_type": "code",
   "execution_count": null,
   "metadata": {
    "collapsed": false,
    "deletable": true,
    "editable": true
   },
   "outputs": [],
   "source": [
    "get_post_with_comments(post_id)"
   ]
  },
  {
   "cell_type": "markdown",
   "metadata": {
    "deletable": true,
    "editable": true
   },
   "source": [
    "### Pure linking\n",
    "\n",
    "*Pros*\n",
    "\n",
    " - Documents don't grow (more important in older MongoDB)\n",
    " - Familiar to relational users\n",
    " \n",
    "*Cons*\n",
    "\n",
    " - Must perform 2 queries, fetching many documents, for each page view\n",
    " - Extra index comments.post_id must be created/maintained"
   ]
  },
  {
   "cell_type": "markdown",
   "metadata": {
    "deletable": true,
    "editable": true
   },
   "source": [
    "# Pure embedding"
   ]
  },
  {
   "cell_type": "code",
   "execution_count": null,
   "metadata": {
    "collapsed": true,
    "deletable": true,
    "editable": true
   },
   "outputs": [],
   "source": [
    "posts = db.posts\n",
    "comments = db.comments\n",
    "posts.drop()\n",
    "comments.drop()"
   ]
  },
  {
   "cell_type": "code",
   "execution_count": null,
   "metadata": {
    "collapsed": true,
    "deletable": true,
    "editable": true
   },
   "outputs": [],
   "source": [
    "def make_post(title, author, text):\n",
    "    result = posts.insert_one({\n",
    "        'title': title,\n",
    "        'author': author,\n",
    "        'text': text,\n",
    "        'comments': []\n",
    "    })\n",
    "    return result.inserted_id"
   ]
  },
  {
   "cell_type": "code",
   "execution_count": null,
   "metadata": {
    "collapsed": false,
    "deletable": true,
    "editable": true
   },
   "outputs": [],
   "source": [
    "def make_comment(post_id, author, text):\n",
    "    result = posts.update_one(\n",
    "        {'_id': post_id},\n",
    "        {'$push': {'comments': {\n",
    "            'author': author,\n",
    "            'text': text}}\n",
    "        })\n",
    "    return post_id"
   ]
  },
  {
   "cell_type": "code",
   "execution_count": null,
   "metadata": {
    "collapsed": true,
    "deletable": true,
    "editable": true
   },
   "outputs": [],
   "source": [
    "def get_post_with_comments(post_id):\n",
    "    post = posts.find_one({'_id': post_id})\n",
    "    comments = post.pop('comments')\n",
    "    return dict(post=post, comments=comments)"
   ]
  },
  {
   "cell_type": "code",
   "execution_count": null,
   "metadata": {
    "collapsed": false,
    "deletable": true,
    "editable": true
   },
   "outputs": [],
   "source": [
    "post_id = make_post(\n",
    "    title='First post', author='Rick', text='My very first post')\n",
    "make_comment(\n",
    "    post_id=post_id,\n",
    "    author='Nancy',\n",
    "    text='This is an uninteresting post')"
   ]
  },
  {
   "cell_type": "code",
   "execution_count": null,
   "metadata": {
    "collapsed": false,
    "deletable": true,
    "editable": true,
    "scrolled": false
   },
   "outputs": [],
   "source": [
    "get_post_with_comments(post_id)"
   ]
  },
  {
   "cell_type": "markdown",
   "metadata": {
    "deletable": true,
    "editable": true
   },
   "source": [
    "### Pure embedding\n",
    "\n",
    "*Pros*\n",
    "\n",
    " - Single query per page view\n",
    " - No extra indexes\n",
    " \n",
    "*Cons*\n",
    "\n",
    " - Documents grow (more important in older MongoDB)\n",
    " - Unfamiliar to relational users"
   ]
  },
  {
   "cell_type": "markdown",
   "metadata": {
    "deletable": true,
    "editable": true
   },
   "source": [
    "# Hybrid approach: pagination"
   ]
  },
  {
   "cell_type": "code",
   "execution_count": null,
   "metadata": {
    "collapsed": false,
    "deletable": true,
    "editable": true
   },
   "outputs": [],
   "source": [
    "posts = db.posts\n",
    "comment_pages = db.comment_pages\n",
    "posts.drop()\n",
    "comment_pages.drop()\n",
    "comment_pages.create_index('post_id')"
   ]
  },
  {
   "cell_type": "code",
   "execution_count": null,
   "metadata": {
    "collapsed": true,
    "deletable": true,
    "editable": true
   },
   "outputs": [],
   "source": [
    "def make_post(title, author, text):\n",
    "    result = posts.insert_one({\n",
    "        'title': title,\n",
    "        'author': author,\n",
    "        'text': text\n",
    "    })\n",
    "    return result.inserted_id"
   ]
  },
  {
   "cell_type": "code",
   "execution_count": null,
   "metadata": {
    "collapsed": false,
    "deletable": true,
    "editable": true
   },
   "outputs": [],
   "source": [
    "def make_comment(post_id, author, text):\n",
    "    result = comment_pages.update_one(\n",
    "        {'post_id': post_id, 'num_comments': {'$lt': 10}},\n",
    "        {'$push': {'comments': {\n",
    "            'author': author,\n",
    "            'text': text}},\n",
    "         '$inc': {'num_comments': 1}\n",
    "        },\n",
    "        upsert=True)\n",
    "    return result"
   ]
  },
  {
   "cell_type": "code",
   "execution_count": null,
   "metadata": {
    "collapsed": true,
    "deletable": true,
    "editable": true
   },
   "outputs": [],
   "source": [
    "def get_post_with_comments(post_id):\n",
    "    post = posts.find_one({'_id': post_id})\n",
    "    q = comment_pages.find({'post_id': post_id})\n",
    "    q = q.sort('_id')\n",
    "    comments = []\n",
    "    for pg in q:\n",
    "        comments += pg['comments']\n",
    "    return dict(post=post, comments=comments)"
   ]
  },
  {
   "cell_type": "code",
   "execution_count": null,
   "metadata": {
    "collapsed": false,
    "deletable": true,
    "editable": true
   },
   "outputs": [],
   "source": [
    "post_id = make_post(\n",
    "    title='First post', author='Rick', text='My very first post')\n",
    "make_comment(\n",
    "    post_id=post_id,\n",
    "    author='Nancy',\n",
    "    text='This is an uninteresting post')"
   ]
  },
  {
   "cell_type": "code",
   "execution_count": null,
   "metadata": {
    "collapsed": false,
    "deletable": true,
    "editable": true
   },
   "outputs": [],
   "source": [
    "get_post_with_comments(post_id)"
   ]
  },
  {
   "cell_type": "code",
   "execution_count": null,
   "metadata": {
    "collapsed": true,
    "deletable": true,
    "editable": true
   },
   "outputs": [],
   "source": [
    "for x in range(20):\n",
    "    make_comment(post_id=post_id, author='spam', text='more spam')"
   ]
  },
  {
   "cell_type": "code",
   "execution_count": null,
   "metadata": {
    "collapsed": false,
    "deletable": true,
    "editable": true
   },
   "outputs": [],
   "source": [
    "list(db.comment_pages.find({}, {'num_comments': 1}))"
   ]
  },
  {
   "cell_type": "code",
   "execution_count": null,
   "metadata": {
    "collapsed": false,
    "deletable": true,
    "editable": true,
    "scrolled": true
   },
   "outputs": [],
   "source": [
    "get_post_with_comments(post_id)"
   ]
  },
  {
   "cell_type": "markdown",
   "metadata": {
    "deletable": true,
    "editable": true
   },
   "source": [
    "### Hybrid approach with paging\n",
    "\n",
    " - Smaller # of documents retrieved than linking\n",
    " - Same number of indexes as linking\n",
    " - Tricky to get right\n",
    " - Posts don't grow, comment pages don't grow *much*"
   ]
  }
 ],
 "metadata": {
  "kernelspec": {
   "display_name": "Python 3",
   "language": "python",
   "name": "python3"
  },
  "language_info": {
   "codemirror_mode": {
    "name": "ipython",
    "version": 3
   },
   "file_extension": ".py",
   "mimetype": "text/x-python",
   "name": "python",
   "nbconvert_exporter": "python",
   "pygments_lexer": "ipython3",
   "version": "3.6.0"
  }
 },
 "nbformat": 4,
 "nbformat_minor": 2
}
