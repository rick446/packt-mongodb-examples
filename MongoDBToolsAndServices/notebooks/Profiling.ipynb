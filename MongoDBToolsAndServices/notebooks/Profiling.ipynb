{
 "cells": [
  {
   "cell_type": "code",
   "execution_count": 1,
   "metadata": {
    "collapsed": true,
    "deletable": true,
    "editable": true
   },
   "outputs": [],
   "source": [
    "import pymongo\n",
    "cli = pymongo.MongoClient()\n",
    "db = cli.test\n",
    "coll = db.stress\n",
    "coll.drop()"
   ]
  },
  {
   "cell_type": "code",
   "execution_count": 2,
   "metadata": {
    "collapsed": true,
    "deletable": true,
    "editable": true
   },
   "outputs": [],
   "source": [
    "import time\n",
    "from functools import wraps\n",
    "\n",
    "def timed(label):\n",
    "    def decorator(func):\n",
    "        @wraps(func)\n",
    "        def wrapper(*args, **kwargs):\n",
    "            n = kwargs.get('n')\n",
    "            bs = kwargs.get('bs', 1)\n",
    "            begin = time.time()\n",
    "            try:\n",
    "                return func(*args, **kwargs)\n",
    "            finally:\n",
    "                elapsed = time.time() - begin\n",
    "                if n:\n",
    "                    if bs:\n",
    "                        n *= bs\n",
    "                    print('{} {} / s'.format(\n",
    "                        n / elapsed,\n",
    "                        label))\n",
    "                else:\n",
    "                    print('{}: {}s elapsed'.format(\n",
    "                        label, elapsed))\n",
    "        return wrapper\n",
    "    return decorator"
   ]
  },
  {
   "cell_type": "code",
   "execution_count": 3,
   "metadata": {
    "collapsed": true,
    "deletable": true,
    "editable": true
   },
   "outputs": [],
   "source": [
    "@timed('inserts')\n",
    "def insert_test(coll, n=1000, bs=1000):\n",
    "    for ix_n in range(n):\n",
    "        block = [\n",
    "            {'ix_n': ix_n, 'ix_b': ix_b}\n",
    "            for ix_b in range(bs)]\n",
    "        coll.insert_many(block)\n",
    "        if ix_n % 40 == 0:\n",
    "            print()\n",
    "        print('.', end='', flush=True)\n",
    "    print()"
   ]
  },
  {
   "cell_type": "code",
   "execution_count": 4,
   "metadata": {
    "collapsed": true,
    "deletable": true,
    "editable": true
   },
   "outputs": [],
   "source": [
    "import random\n",
    "@timed('queries')\n",
    "def query_test(coll, max_ix_b, max_ix_n, n=100, bs=10):\n",
    "    for ix_n in range(n):\n",
    "        rv_n = random.randint(0, max_ix_n + 1)\n",
    "        rv_b = random.randint(0, max_ix_b + 1)\n",
    "        res = coll.find({\n",
    "            'ix_n': rv_n,\n",
    "            'ix_b': {'$gt': rv_b}\n",
    "        })\n",
    "        list(res)\n"
   ]
  },
  {
   "cell_type": "code",
   "execution_count": 5,
   "metadata": {
    "collapsed": true,
    "deletable": true,
    "editable": true
   },
   "outputs": [],
   "source": [
    "@timed('updates')\n",
    "def update_test(coll, max_ix_b, max_ix_n, n=10000):\n",
    "    for ix_n in range(n):\n",
    "        rv_n = random.randint(0, max_ix_n + 1)\n",
    "        rv_b = random.randint(0, max_ix_b + 1)\n",
    "        coll.update_one(\n",
    "            {'ix_n': rv_n, 'ix_b': rv_b},\n",
    "            {'$inc': {'x': 1}})"
   ]
  },
  {
   "cell_type": "code",
   "execution_count": 6,
   "metadata": {
    "collapsed": false,
    "deletable": true,
    "editable": true
   },
   "outputs": [
    {
     "name": "stdout",
     "output_type": "stream",
     "text": [
      "\n",
      "........................................\n",
      "........................................\n",
      "........................................\n",
      "........................................\n",
      "........................................\n",
      "........................................\n",
      "........................................\n",
      "........................................\n",
      "........................................\n",
      "........................................\n",
      "........................................\n",
      "........................................\n",
      "....................\n",
      "55123.794021123635 inserts / s\n"
     ]
    }
   ],
   "source": [
    "insert_test(coll, n=500, bs=1000)"
   ]
  },
  {
   "cell_type": "code",
   "execution_count": 7,
   "metadata": {
    "collapsed": true,
    "deletable": true,
    "editable": true
   },
   "outputs": [],
   "source": [
    "max_ix_b = 999\n",
    "max_ix_n = 499"
   ]
  },
  {
   "cell_type": "code",
   "execution_count": 8,
   "metadata": {
    "collapsed": true,
    "deletable": true,
    "editable": true
   },
   "outputs": [],
   "source": [
    "coll.drop_indexes()"
   ]
  },
  {
   "cell_type": "code",
   "execution_count": 9,
   "metadata": {
    "collapsed": true,
    "deletable": true,
    "editable": true
   },
   "outputs": [],
   "source": [
    "db.set_profiling_level(1)"
   ]
  },
  {
   "cell_type": "code",
   "execution_count": 10,
   "metadata": {
    "collapsed": false,
    "deletable": true,
    "editable": true
   },
   "outputs": [
    {
     "name": "stdout",
     "output_type": "stream",
     "text": [
      "5.8404010663905215 queries / s\n"
     ]
    }
   ],
   "source": [
    "query_test(coll, max_ix_b, max_ix_n, n=50)"
   ]
  },
  {
   "cell_type": "code",
   "execution_count": 11,
   "metadata": {
    "collapsed": false,
    "deletable": true,
    "editable": true
   },
   "outputs": [],
   "source": [
    "doc = db.system.profile.find_one(sort=[('ts', -1)])"
   ]
  },
  {
   "cell_type": "code",
   "execution_count": 12,
   "metadata": {
    "collapsed": false,
    "deletable": true,
    "editable": true
   },
   "outputs": [
    {
     "data": {
      "text/plain": [
       "{'allUsers': [],\n",
       " 'client': '172.17.0.1',\n",
       " 'cursorExhausted': True,\n",
       " 'cursorid': 418239177067.0,\n",
       " 'docsExamined': 436759,\n",
       " 'execStats': {'advanced': 860,\n",
       "  'direction': 'forward',\n",
       "  'docsExamined': 500000,\n",
       "  'executionTimeMillisEstimate': 159,\n",
       "  'filter': {'$and': [{'ix_n': {'$eq': 63}}, {'ix_b': {'$gt': 139}}]},\n",
       "  'invalidates': 0,\n",
       "  'isEOF': 1,\n",
       "  'nReturned': 860,\n",
       "  'needTime': 499141,\n",
       "  'needYield': 0,\n",
       "  'restoreState': 3909,\n",
       "  'saveState': 3909,\n",
       "  'stage': 'COLLSCAN',\n",
       "  'works': 500002},\n",
       " 'keysExamined': 0,\n",
       " 'locks': {'Collection': {'acquireCount': {'r': 3415}},\n",
       "  'Database': {'acquireCount': {'r': 3415}},\n",
       "  'Global': {'acquireCount': {'r': 6830}}},\n",
       " 'millis': 138,\n",
       " 'nreturned': 759,\n",
       " 'ns': 'test.stress',\n",
       " 'numYield': 3414,\n",
       " 'op': 'getmore',\n",
       " 'originatingCommand': {'filter': {'ix_b': {'$gt': 139}, 'ix_n': 63},\n",
       "  'find': 'stress'},\n",
       " 'planSummary': 'COLLSCAN',\n",
       " 'protocol': 'op_query',\n",
       " 'query': {'collection': 'stress', 'getMore': 418239177067},\n",
       " 'responseLength': 35661,\n",
       " 'ts': datetime.datetime(2017, 5, 30, 14, 35, 33, 22000),\n",
       " 'user': ''}"
      ]
     },
     "execution_count": 12,
     "metadata": {},
     "output_type": "execute_result"
    }
   ],
   "source": [
    "doc"
   ]
  },
  {
   "cell_type": "code",
   "execution_count": 13,
   "metadata": {
    "collapsed": false,
    "deletable": true,
    "editable": true
   },
   "outputs": [
    {
     "name": "stdout",
     "output_type": "stream",
     "text": [
      "138 {'getMore': 418239177067, 'collection': 'stress'}\n",
      "132 {'getMore': 416943943993, 'collection': 'stress'}\n",
      "145 {'getMore': 417610898778, 'collection': 'stress'}\n",
      "136 {'find': 'stress', 'filter': {'ix_n': 386, 'ix_b': {'$gt': 345}}}\n",
      "127 {'getMore': 417155671486, 'collection': 'stress'}\n",
      "167 {'find': 'stress', 'filter': {'ix_n': 50, 'ix_b': {'$gt': 980}}}\n",
      "115 {'find': 'stress', 'filter': {'ix_n': 369, 'ix_b': {'$gt': 568}}}\n",
      "120 {'getMore': 418265215831, 'collection': 'stress'}\n",
      "170 {'find': 'stress', 'filter': {'ix_n': 421, 'ix_b': {'$gt': 958}}}\n",
      "154 {'find': 'stress', 'filter': {'ix_n': 430, 'ix_b': {'$gt': 748}}}\n"
     ]
    }
   ],
   "source": [
    "for doc in db.system.profile.find({'op': {'$ne': 'command'}}).sort([('ts', -1)]).limit(10):\n",
    "    print('{millis} {query}'.format(**doc))"
   ]
  },
  {
   "cell_type": "code",
   "execution_count": 14,
   "metadata": {
    "collapsed": false,
    "deletable": true,
    "editable": true
   },
   "outputs": [],
   "source": [
    "db.set_profiling_level(2)"
   ]
  },
  {
   "cell_type": "code",
   "execution_count": 15,
   "metadata": {
    "collapsed": false,
    "deletable": true,
    "editable": true
   },
   "outputs": [
    {
     "name": "stdout",
     "output_type": "stream",
     "text": [
      "5.712664538760289 queries / s\n"
     ]
    }
   ],
   "source": [
    "query_test(coll, max_ix_b, max_ix_n, n=50)"
   ]
  },
  {
   "cell_type": "code",
   "execution_count": 16,
   "metadata": {
    "collapsed": false,
    "deletable": true,
    "editable": true
   },
   "outputs": [
    {
     "name": "stdout",
     "output_type": "stream",
     "text": [
      "103 {'getMore': 417337796129, 'collection': 'stress'}\n",
      "66 {'find': 'stress', 'filter': {'ix_n': 196, 'ix_b': {'$gt': 748}}}\n",
      "99 {'getMore': 419271561509, 'collection': 'stress'}\n",
      "78 {'find': 'stress', 'filter': {'ix_n': 220, 'ix_b': {'$gt': 117}}}\n",
      "182 {'find': 'stress', 'filter': {'ix_n': 439, 'ix_b': {'$gt': 968}}}\n",
      "55 {'getMore': 420496421480, 'collection': 'stress'}\n",
      "121 {'find': 'stress', 'filter': {'ix_n': 361, 'ix_b': {'$gt': 171}}}\n",
      "18 {'getMore': 417403600789, 'collection': 'stress'}\n",
      "150 {'find': 'stress', 'filter': {'ix_n': 464, 'ix_b': {'$gt': 638}}}\n",
      "124 {'getMore': 418052314249, 'collection': 'stress'}\n"
     ]
    }
   ],
   "source": [
    "for doc in db.system.profile.find({'op': {'$ne': 'command'}}).sort([('ts', -1)]).limit(10):\n",
    "    print('{millis} {query}'.format(**doc))"
   ]
  },
  {
   "cell_type": "code",
   "execution_count": 17,
   "metadata": {
    "collapsed": false,
    "deletable": true,
    "editable": true
   },
   "outputs": [
    {
     "data": {
      "text/plain": [
       "{'allUsers': [],\n",
       " 'client': '172.17.0.1',\n",
       " 'cursorExhausted': True,\n",
       " 'cursorid': 418052314249.0,\n",
       " 'docsExamined': 367672,\n",
       " 'execStats': {'advanced': 773,\n",
       "  'direction': 'forward',\n",
       "  'docsExamined': 500000,\n",
       "  'executionTimeMillisEstimate': 155,\n",
       "  'filter': {'$and': [{'ix_n': {'$eq': 132}}, {'ix_b': {'$gt': 226}}]},\n",
       "  'invalidates': 0,\n",
       "  'isEOF': 1,\n",
       "  'nReturned': 773,\n",
       "  'needTime': 499228,\n",
       "  'needYield': 0,\n",
       "  'restoreState': 3912,\n",
       "  'saveState': 3912,\n",
       "  'stage': 'COLLSCAN',\n",
       "  'works': 500002},\n",
       " 'keysExamined': 0,\n",
       " 'locks': {'Collection': {'acquireCount': {'r': 2876}},\n",
       "  'Database': {'acquireCount': {'r': 2876}},\n",
       "  'Global': {'acquireCount': {'r': 5752}}},\n",
       " 'millis': 124,\n",
       " 'nreturned': 672,\n",
       " 'ns': 'test.stress',\n",
       " 'numYield': 2875,\n",
       " 'op': 'getmore',\n",
       " 'originatingCommand': {'filter': {'ix_b': {'$gt': 226}, 'ix_n': 132},\n",
       "  'find': 'stress'},\n",
       " 'planSummary': 'COLLSCAN',\n",
       " 'protocol': 'op_query',\n",
       " 'query': {'collection': 'stress', 'getMore': 418052314249},\n",
       " 'responseLength': 31572,\n",
       " 'ts': datetime.datetime(2017, 5, 30, 14, 37, 51, 476000),\n",
       " 'user': ''}"
      ]
     },
     "execution_count": 17,
     "metadata": {},
     "output_type": "execute_result"
    }
   ],
   "source": [
    "doc"
   ]
  },
  {
   "cell_type": "code",
   "execution_count": 18,
   "metadata": {
    "collapsed": false,
    "deletable": true,
    "editable": true
   },
   "outputs": [],
   "source": [
    "%matplotlib inline"
   ]
  },
  {
   "cell_type": "code",
   "execution_count": 19,
   "metadata": {
    "collapsed": true,
    "deletable": true,
    "editable": true
   },
   "outputs": [],
   "source": [
    "import pandas as pd"
   ]
  },
  {
   "cell_type": "code",
   "execution_count": 20,
   "metadata": {
    "collapsed": false,
    "deletable": true,
    "editable": true
   },
   "outputs": [],
   "source": [
    "from datetime import datetime\n",
    "now = datetime.utcnow()"
   ]
  },
  {
   "cell_type": "code",
   "execution_count": 21,
   "metadata": {
    "collapsed": false,
    "deletable": true,
    "editable": true
   },
   "outputs": [
    {
     "name": "stdout",
     "output_type": "stream",
     "text": [
      "5.736319022788084 queries / s\n"
     ]
    }
   ],
   "source": [
    "query_test(coll, max_ix_b, max_ix_n, n=50)"
   ]
  },
  {
   "cell_type": "code",
   "execution_count": 22,
   "metadata": {
    "collapsed": true,
    "deletable": true,
    "editable": true
   },
   "outputs": [],
   "source": [
    "df_pre_index = pd.DataFrame(list(db.system.profile.find({'ts': {'$gt': now}})))"
   ]
  },
  {
   "cell_type": "code",
   "execution_count": 23,
   "metadata": {
    "collapsed": false,
    "deletable": true,
    "editable": true
   },
   "outputs": [
    {
     "data": {
      "text/plain": [
       "<matplotlib.axes._subplots.AxesSubplot at 0x106406cf8>"
      ]
     },
     "execution_count": 23,
     "metadata": {},
     "output_type": "execute_result"
    },
    {
     "data": {
      "image/png": "[encoded data removed]",
      "text/plain": [
       "<matplotlib.figure.Figure at 0x1063f8b38>"
      ]
     },
     "metadata": {},
     "output_type": "display_data"
    }
   ],
   "source": [
    "df_pre_index['millis'].hist()"
   ]
  },
  {
   "cell_type": "code",
   "execution_count": 24,
   "metadata": {
    "collapsed": false,
    "deletable": true,
    "editable": true
   },
   "outputs": [
    {
     "data": {
      "text/plain": [
       "'ix_n_1'"
      ]
     },
     "execution_count": 24,
     "metadata": {},
     "output_type": "execute_result"
    }
   ],
   "source": [
    "coll.create_index([\n",
    "    ('ix_n', 1)\n",
    "])"
   ]
  },
  {
   "cell_type": "code",
   "execution_count": 25,
   "metadata": {
    "collapsed": true,
    "deletable": true,
    "editable": true
   },
   "outputs": [],
   "source": [
    "now = datetime.utcnow()"
   ]
  },
  {
   "cell_type": "code",
   "execution_count": 26,
   "metadata": {
    "collapsed": false,
    "deletable": true,
    "editable": true
   },
   "outputs": [
    {
     "name": "stdout",
     "output_type": "stream",
     "text": [
      "241.4104624338673 queries / s\n"
     ]
    }
   ],
   "source": [
    "query_test(coll, max_ix_b, max_ix_n, n=50)"
   ]
  },
  {
   "cell_type": "code",
   "execution_count": 27,
   "metadata": {
    "collapsed": true,
    "deletable": true,
    "editable": true
   },
   "outputs": [],
   "source": [
    "df_post_index = pd.DataFrame(list(db.system.profile.find({'ts': {'$gt': now}})))"
   ]
  },
  {
   "cell_type": "code",
   "execution_count": 28,
   "metadata": {
    "collapsed": false,
    "deletable": true,
    "editable": true
   },
   "outputs": [
    {
     "data": {
      "text/plain": [
       "<matplotlib.axes._subplots.AxesSubplot at 0x106658860>"
      ]
     },
     "execution_count": 28,
     "metadata": {},
     "output_type": "execute_result"
    },
    {
     "data": {
      "image/png": "[encoded data removed]",
      "text/plain": [
       "<matplotlib.figure.Figure at 0x1065c8828>"
      ]
     },
     "metadata": {},
     "output_type": "display_data"
    }
   ],
   "source": [
    "df_post_index['millis'].hist()"
   ]
  },
  {
   "cell_type": "code",
   "execution_count": 29,
   "metadata": {
    "collapsed": true,
    "deletable": true,
    "editable": true
   },
   "outputs": [],
   "source": [
    "coll.drop_indexes()"
   ]
  },
  {
   "cell_type": "code",
   "execution_count": 30,
   "metadata": {
    "collapsed": true,
    "deletable": true,
    "editable": true
   },
   "outputs": [],
   "source": [
    "db.set_profiling_level(0)"
   ]
  },
  {
   "cell_type": "code",
   "execution_count": 31,
   "metadata": {
    "collapsed": false,
    "deletable": true,
    "editable": true
   },
   "outputs": [
    {
     "name": "stdout",
     "output_type": "stream",
     "text": [
      "5.7725793890967205 queries / s\n"
     ]
    }
   ],
   "source": [
    "query_test(coll, max_ix_b, max_ix_n, n=50)"
   ]
  },
  {
   "cell_type": "code",
   "execution_count": 32,
   "metadata": {
    "collapsed": true,
    "deletable": true,
    "editable": true
   },
   "outputs": [],
   "source": [
    "db.set_profiling_level(1, 200)"
   ]
  },
  {
   "cell_type": "code",
   "execution_count": 33,
   "metadata": {
    "collapsed": false,
    "deletable": true,
    "editable": true
   },
   "outputs": [
    {
     "name": "stdout",
     "output_type": "stream",
     "text": [
      "5.9663750144845515 queries / s\n"
     ]
    }
   ],
   "source": [
    "query_test(coll, max_ix_b, max_ix_n, n=50)"
   ]
  },
  {
   "cell_type": "code",
   "execution_count": 34,
   "metadata": {
    "collapsed": true,
    "deletable": true,
    "editable": true
   },
   "outputs": [],
   "source": [
    "db.set_profiling_level(1, 10)"
   ]
  },
  {
   "cell_type": "code",
   "execution_count": 35,
   "metadata": {
    "collapsed": false,
    "deletable": true,
    "editable": true
   },
   "outputs": [
    {
     "name": "stdout",
     "output_type": "stream",
     "text": [
      "5.76451816628932 queries / s\n"
     ]
    }
   ],
   "source": [
    "query_test(coll, max_ix_b, max_ix_n, n=50)"
   ]
  },
  {
   "cell_type": "code",
   "execution_count": 36,
   "metadata": {
    "collapsed": true,
    "deletable": true,
    "editable": true
   },
   "outputs": [],
   "source": [
    "db.set_profiling_level(2)"
   ]
  },
  {
   "cell_type": "code",
   "execution_count": 37,
   "metadata": {
    "collapsed": false,
    "deletable": true,
    "editable": true
   },
   "outputs": [
    {
     "name": "stdout",
     "output_type": "stream",
     "text": [
      "5.586251816265965 queries / s\n"
     ]
    }
   ],
   "source": [
    "query_test(coll, max_ix_b, max_ix_n, n=50)"
   ]
  },
  {
   "cell_type": "code",
   "execution_count": 38,
   "metadata": {
    "collapsed": true,
    "deletable": true,
    "editable": true
   },
   "outputs": [],
   "source": [
    "db.set_profiling_level(1, 1000)"
   ]
  },
  {
   "cell_type": "code",
   "execution_count": 39,
   "metadata": {
    "collapsed": false,
    "deletable": true,
    "editable": true
   },
   "outputs": [
    {
     "name": "stdout",
     "output_type": "stream",
     "text": [
      "5.950570994927484 queries / s\n"
     ]
    }
   ],
   "source": [
    "query_test(coll, max_ix_b, max_ix_n, n=50)"
   ]
  },
  {
   "cell_type": "code",
   "execution_count": null,
   "metadata": {
    "collapsed": true
   },
   "outputs": [],
   "source": []
  }
 ],
 "metadata": {
  "kernelspec": {
   "display_name": "Python 3",
   "language": "python",
   "name": "python3"
  },
  "language_info": {
   "codemirror_mode": {
    "name": "ipython",
    "version": 3
   },
   "file_extension": ".py",
   "mimetype": "text/x-python",
   "name": "python",
   "nbconvert_exporter": "python",
   "pygments_lexer": "ipython3",
   "version": "3.6.0"
  }
 },
 "nbformat": 4,
 "nbformat_minor": 2
}
