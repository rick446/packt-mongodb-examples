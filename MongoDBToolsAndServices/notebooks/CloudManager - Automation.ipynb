{
 "cells": [
  {
   "cell_type": "code",
   "execution_count": 1,
   "metadata": {
    "collapsed": false,
    "deletable": true,
    "editable": true
   },
   "outputs": [],
   "source": [
    "import pymongo\n",
    "cli = pymongo.MongoClient(\n",
    "    host='165.227.64.16',\n",
    "    ssl=True,\n",
    "    ssl_ca_certs='ca.pem',\n",
    "    ssl_match_hostname=False)"
   ]
  },
  {
   "cell_type": "code",
   "execution_count": 2,
   "metadata": {
    "collapsed": false,
    "deletable": true,
    "editable": true
   },
   "outputs": [
    {
     "data": {
      "text/plain": [
       "True"
      ]
     },
     "execution_count": 2,
     "metadata": {},
     "output_type": "execute_result"
    }
   ],
   "source": [
    "db = cli.test\n",
    "db.authenticate('test', 'test')"
   ]
  },
  {
   "cell_type": "markdown",
   "metadata": {
    "deletable": true,
    "editable": true
   },
   "source": [
    "# Switch to Cloud Manager\n",
    "\n",
    "Now, we'll set up managed sharding in the Cloud Manager console"
   ]
  },
  {
   "cell_type": "code",
   "execution_count": 3,
   "metadata": {
    "collapsed": true,
    "deletable": true,
    "editable": true
   },
   "outputs": [],
   "source": [
    "import time\n",
    "from functools import wraps\n",
    "\n",
    "def timed(label):\n",
    "    def decorator(func):\n",
    "        @wraps(func)\n",
    "        def wrapper(*args, **kwargs):\n",
    "            n = kwargs.get('n')\n",
    "            bs = kwargs.get('bs', 1)\n",
    "            begin = time.time()\n",
    "            try:\n",
    "                return func(*args, **kwargs)\n",
    "            finally:\n",
    "                elapsed = time.time() - begin\n",
    "                if n:\n",
    "                    if bs:\n",
    "                        n *= bs\n",
    "                    print('{} {} / s'.format(\n",
    "                        n / elapsed,\n",
    "                        label))\n",
    "                else:\n",
    "                    print('{}: {}s elapsed'.format(\n",
    "                        label, elapsed))\n",
    "        return wrapper\n",
    "    return decorator"
   ]
  },
  {
   "cell_type": "code",
   "execution_count": 4,
   "metadata": {
    "collapsed": true,
    "deletable": true,
    "editable": true
   },
   "outputs": [],
   "source": [
    "coll = db.stress"
   ]
  },
  {
   "cell_type": "code",
   "execution_count": 5,
   "metadata": {
    "collapsed": false,
    "deletable": true,
    "editable": true
   },
   "outputs": [],
   "source": [
    "@timed('inserts')\n",
    "def insert_test(coll, n=1000, bs=1000):\n",
    "    for ix_n in range(n):\n",
    "        block = [\n",
    "            {'ix_n': ix_n, 'ix_b': ix_b}\n",
    "            for ix_b in range(bs)]\n",
    "        coll.insert_many(block)\n",
    "        if ix_n % 40 == 0:\n",
    "            print()\n",
    "        print('.', end='', flush=True)\n",
    "    print()"
   ]
  },
  {
   "cell_type": "code",
   "execution_count": 6,
   "metadata": {
    "collapsed": true,
    "deletable": true,
    "editable": true
   },
   "outputs": [],
   "source": [
    "import random\n",
    "@timed('queries')\n",
    "def query_test(coll, max_ix_b, max_ix_n, n=100, bs=10):\n",
    "    for ix_n in range(n):\n",
    "        rv_n = random.randint(0, max_ix_n + 1)\n",
    "        rv_b = random.randint(0, max_ix_b + 1)\n",
    "        res = coll.find({\n",
    "            'ix_n': rv_n,\n",
    "            'ix_b': {'$gt': rv_b}\n",
    "        })\n",
    "        list(res)\n"
   ]
  },
  {
   "cell_type": "code",
   "execution_count": 7,
   "metadata": {
    "collapsed": true,
    "deletable": true,
    "editable": true
   },
   "outputs": [],
   "source": [
    "@timed('updates')\n",
    "def update_test(coll, max_ix_b, max_ix_n, n=10000):\n",
    "    for ix_n in range(n):\n",
    "        rv_n = random.randint(0, max_ix_n + 1)\n",
    "        rv_b = random.randint(0, max_ix_b + 1)\n",
    "        coll.update_one(\n",
    "            {'ix_n': rv_n, 'ix_b': rv_b},\n",
    "            {'$inc': {'x': 1}})"
   ]
  },
  {
   "cell_type": "code",
   "execution_count": 8,
   "metadata": {
    "collapsed": false,
    "deletable": true,
    "editable": true
   },
   "outputs": [
    {
     "name": "stdout",
     "output_type": "stream",
     "text": [
      "\n",
      "........................................\n",
      "........................................\n",
      "........................................\n",
      "........................................\n",
      "........................................\n",
      "........................................\n",
      "........................................\n",
      "........................................\n",
      "........................................\n",
      "........................................\n",
      "........................................\n",
      "........................................\n",
      "....................\n",
      "8993.490107108135 inserts / s\n"
     ]
    }
   ],
   "source": [
    "insert_test(coll, n=500, bs=1000)"
   ]
  },
  {
   "cell_type": "code",
   "execution_count": 9,
   "metadata": {
    "collapsed": false,
    "deletable": true,
    "editable": true
   },
   "outputs": [],
   "source": [
    "max_ix_b = 999\n",
    "max_ix_n = 499"
   ]
  },
  {
   "cell_type": "code",
   "execution_count": 10,
   "metadata": {
    "collapsed": false,
    "deletable": true,
    "editable": true
   },
   "outputs": [
    {
     "data": {
      "text/plain": [
       "'ix_n_1_ix_b_1'"
      ]
     },
     "execution_count": 10,
     "metadata": {},
     "output_type": "execute_result"
    }
   ],
   "source": [
    "coll.create_index([\n",
    "    ('ix_n', 1),\n",
    "    ('ix_b', 1)\n",
    "])"
   ]
  },
  {
   "cell_type": "code",
   "execution_count": null,
   "metadata": {
    "collapsed": false,
    "deletable": true,
    "editable": true
   },
   "outputs": [
    {
     "name": "stdout",
     "output_type": "stream",
     "text": [
      "\n",
      "........................................\n",
      "........................................\n",
      "........................................\n",
      "........................................\n",
      "........................................\n",
      "..............16.541630006201892 queries / s\n",
      "..........................\n",
      "........................................\n",
      "........................................\n",
      "........................................\n",
      "........................................\n",
      "........................................\n",
      "........................................\n",
      "........................................\n",
      "........................................\n",
      "........................................\n",
      "........................................\n",
      "..........................."
     ]
    }
   ],
   "source": [
    "from threading import Thread\n",
    "threads = [\n",
    "    Thread(target=insert_test, args=(coll,), kwargs={'n': 2000, 'bs': 1000}),\n",
    "    Thread(target=update_test, args=(coll,), \n",
    "           kwargs={'n': 20000, 'max_ix_n': max_ix_n, 'max_ix_b': max_ix_b}),\n",
    "    Thread(target=query_test, args=(coll,), \n",
    "           kwargs={'n': 2000, 'max_ix_n': max_ix_n, 'max_ix_b': max_ix_b})]\n",
    "for t in threads:\n",
    "    t.setDaemon(True)\n",
    "    t.start()\n",
    "for t in threads:\n",
    "    t.join()"
   ]
  },
  {
   "cell_type": "code",
   "execution_count": null,
   "metadata": {
    "collapsed": true
   },
   "outputs": [],
   "source": []
  }
 ],
 "metadata": {
  "kernelspec": {
   "display_name": "Python 3",
   "language": "python",
   "name": "python3"
  },
  "language_info": {
   "codemirror_mode": {
    "name": "ipython",
    "version": 3
   },
   "file_extension": ".py",
   "mimetype": "text/x-python",
   "name": "python",
   "nbconvert_exporter": "python",
   "pygments_lexer": "ipython3",
   "version": "3.6.0"
  }
 },
 "nbformat": 4,
 "nbformat_minor": 2
}
