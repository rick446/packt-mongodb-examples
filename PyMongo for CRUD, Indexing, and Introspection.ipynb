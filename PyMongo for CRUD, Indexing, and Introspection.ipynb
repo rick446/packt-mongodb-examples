{
 "cells": [
  {
   "cell_type": "markdown",
   "metadata": {},
   "source": [
    "# Using PyMongo for CRUD operations"
   ]
  },
  {
   "cell_type": "code",
   "execution_count": 11,
   "metadata": {
    "collapsed": true
   },
   "outputs": [],
   "source": [
    "import pymongo"
   ]
  },
  {
   "cell_type": "code",
   "execution_count": 12,
   "metadata": {
    "collapsed": false
   },
   "outputs": [],
   "source": [
    "cli = pymongo.MongoClient()"
   ]
  },
  {
   "cell_type": "code",
   "execution_count": 13,
   "metadata": {
    "collapsed": true
   },
   "outputs": [],
   "source": [
    "db = cli.test"
   ]
  },
  {
   "cell_type": "code",
   "execution_count": 14,
   "metadata": {
    "collapsed": true
   },
   "outputs": [],
   "source": [
    "db.packt_authors.drop()"
   ]
  },
  {
   "cell_type": "code",
   "execution_count": 15,
   "metadata": {
    "collapsed": false
   },
   "outputs": [
    {
     "data": {
      "text/plain": [
       "<pymongo.results.InsertOneResult at 0x10b0d0798>"
      ]
     },
     "execution_count": 15,
     "metadata": {},
     "output_type": "execute_result"
    }
   ],
   "source": [
    "result = db.packt_authors.insert_one({\n",
    "    'name': 'Rick Copeland',\n",
    "    'tags': ['mongodb', 'python']\n",
    "})\n",
    "result"
   ]
  },
  {
   "cell_type": "code",
   "execution_count": 16,
   "metadata": {
    "collapsed": false
   },
   "outputs": [
    {
     "data": {
      "text/plain": [
       "ObjectId('58dead294e92acb914ed493d')"
      ]
     },
     "execution_count": 16,
     "metadata": {},
     "output_type": "execute_result"
    }
   ],
   "source": [
    "result.inserted_id"
   ]
  },
  {
   "cell_type": "code",
   "execution_count": 17,
   "metadata": {
    "collapsed": false
   },
   "outputs": [
    {
     "data": {
      "text/plain": [
       "[{'_id': ObjectId('58dead294e92acb914ed493d'),\n",
       "  'name': 'Rick Copeland',\n",
       "  'tags': ['mongodb', 'python']}]"
      ]
     },
     "execution_count": 17,
     "metadata": {},
     "output_type": "execute_result"
    }
   ],
   "source": [
    "list(db.packt_authors.find())"
   ]
  },
  {
   "cell_type": "code",
   "execution_count": 18,
   "metadata": {
    "collapsed": false
   },
   "outputs": [
    {
     "data": {
      "text/plain": [
       "{'_id': ObjectId('58dead294e92acb914ed493d'),\n",
       " 'name': 'Rick Copeland',\n",
       " 'tags': ['mongodb', 'python']}"
      ]
     },
     "execution_count": 18,
     "metadata": {},
     "output_type": "execute_result"
    }
   ],
   "source": [
    "doc = db.packt_authors.find_one()\n",
    "doc"
   ]
  },
  {
   "cell_type": "code",
   "execution_count": 19,
   "metadata": {
    "collapsed": false
   },
   "outputs": [
    {
     "data": {
      "text/plain": [
       "{'_id': ObjectId('58dead294e92acb914ed493d'), 'name': 'Rick'}"
      ]
     },
     "execution_count": 19,
     "metadata": {},
     "output_type": "execute_result"
    }
   ],
   "source": [
    "db.packt_authors.replace_one(\n",
    "    {'_id': doc['_id']},\n",
    "    {'name': 'Rick'}\n",
    ")\n",
    "doc = db.packt_authors.find_one()\n",
    "doc"
   ]
  },
  {
   "cell_type": "code",
   "execution_count": 20,
   "metadata": {
    "collapsed": false
   },
   "outputs": [
    {
     "data": {
      "text/plain": [
       "{'_id': ObjectId('58dead294e92acb914ed493d'),\n",
       " 'name': 'Rick',\n",
       " 'tags': ['MongoDB']}"
      ]
     },
     "execution_count": 20,
     "metadata": {},
     "output_type": "execute_result"
    }
   ],
   "source": [
    "db.packt_authors.update_one(\n",
    "    {'_id': doc['_id']},\n",
    "    {'$push': {'tags': 'MongoDB'}}\n",
    ")\n",
    "doc = db.packt_authors.find_one()\n",
    "doc"
   ]
  },
  {
   "cell_type": "code",
   "execution_count": 21,
   "metadata": {
    "collapsed": false
   },
   "outputs": [
    {
     "data": {
      "text/plain": [
       "{'_id': ObjectId('58dead294e92acb914ed493d'),\n",
       " 'name': 'Rick',\n",
       " 'tags': ['MongoDB', 'Python']}"
      ]
     },
     "execution_count": 21,
     "metadata": {},
     "output_type": "execute_result"
    }
   ],
   "source": [
    "db.packt_authors.update_one(\n",
    "    {'_id': doc['_id']},\n",
    "    {'$push': {'tags': 'Python'}}\n",
    ")\n",
    "doc = db.packt_authors.find_one()\n",
    "doc"
   ]
  },
  {
   "cell_type": "markdown",
   "metadata": {},
   "source": [
    "# Using PyMongo for Indexing"
   ]
  },
  {
   "cell_type": "code",
   "execution_count": 22,
   "metadata": {
    "collapsed": false
   },
   "outputs": [
    {
     "name": "stdout",
     "output_type": "stream",
     "text": [
      "_id_\n",
      "restaurant_id_1\n",
      "cuisine_1_name_1\n"
     ]
    }
   ],
   "source": [
    "for iname, iconfig in db.restaurants.index_information().items():\n",
    "    print(iname)"
   ]
  },
  {
   "cell_type": "code",
   "execution_count": 23,
   "metadata": {
    "collapsed": true
   },
   "outputs": [],
   "source": [
    "db.restaurants.drop_indexes()"
   ]
  },
  {
   "cell_type": "code",
   "execution_count": 24,
   "metadata": {
    "collapsed": false
   },
   "outputs": [
    {
     "name": "stdout",
     "output_type": "stream",
     "text": [
      "_id_\n"
     ]
    }
   ],
   "source": [
    "for iname, iconfig in db.restaurants.index_information().items():\n",
    "    print(iname)"
   ]
  },
  {
   "cell_type": "code",
   "execution_count": 25,
   "metadata": {
    "collapsed": false
   },
   "outputs": [
    {
     "data": {
      "text/plain": [
       "'restaurant_id_1'"
      ]
     },
     "execution_count": 25,
     "metadata": {},
     "output_type": "execute_result"
    }
   ],
   "source": [
    "db.restaurants.create_index('restaurant_id')"
   ]
  },
  {
   "cell_type": "code",
   "execution_count": 27,
   "metadata": {
    "collapsed": false
   },
   "outputs": [
    {
     "data": {
      "text/plain": [
       "'cuisine_1_name_1'"
      ]
     },
     "execution_count": 27,
     "metadata": {},
     "output_type": "execute_result"
    }
   ],
   "source": [
    "db.restaurants.create_index(\n",
    "    [\n",
    "        ('cuisine', 1),\n",
    "        ('name', 1)\n",
    "    ],\n",
    "    background=True)"
   ]
  },
  {
   "cell_type": "code",
   "execution_count": 34,
   "metadata": {
    "collapsed": false,
    "deletable": true,
    "editable": true,
    "scrolled": true
   },
   "outputs": [
    {
     "data": {
      "text/plain": [
       "{'_id_': {'key': [('_id', 1)], 'ns': 'test.restaurants', 'v': 1},\n",
       " 'cuisine_1_name_1': {'background': True,\n",
       "  'key': [('cuisine', 1), ('name', 1)],\n",
       "  'ns': 'test.restaurants',\n",
       "  'v': 1},\n",
       " 'restaurant_id_1': {'key': [('restaurant_id', 1)],\n",
       "  'ns': 'test.restaurants',\n",
       "  'v': 1}}"
      ]
     },
     "execution_count": 34,
     "metadata": {},
     "output_type": "execute_result"
    }
   ],
   "source": [
    "cli.test.restaurants.index_information()"
   ]
  },
  {
   "cell_type": "markdown",
   "metadata": {
    "deletable": true,
    "editable": true
   },
   "source": [
    "# Using PyMongo for Introspection"
   ]
  },
  {
   "cell_type": "code",
   "execution_count": 28,
   "metadata": {
    "collapsed": false,
    "deletable": true,
    "editable": true
   },
   "outputs": [
    {
     "data": {
      "text/plain": [
       "['SilverServer',\n",
       " 'a4production',\n",
       " 'admin',\n",
       " 'blog',\n",
       " 'cities',\n",
       " 'dfg',\n",
       " 'dpitool',\n",
       " 'enron',\n",
       " 'local',\n",
       " 'm101',\n",
       " 'packt-blog',\n",
       " 'pyatl',\n",
       " 'recorder',\n",
       " 'school',\n",
       " 'senior-living',\n",
       " 'students',\n",
       " 'test',\n",
       " 'zipcode']"
      ]
     },
     "execution_count": 28,
     "metadata": {},
     "output_type": "execute_result"
    }
   ],
   "source": [
    "cli.database_names()"
   ]
  },
  {
   "cell_type": "code",
   "execution_count": 29,
   "metadata": {
    "collapsed": false,
    "deletable": true,
    "editable": true
   },
   "outputs": [
    {
     "data": {
      "text/plain": [
       "['albums',\n",
       " 'packt_authors',\n",
       " 'data',\n",
       " 'class',\n",
       " 'packt_videos',\n",
       " 'test',\n",
       " 'restaurants',\n",
       " 'grades',\n",
       " 'zips',\n",
       " 'pack_authors']"
      ]
     },
     "execution_count": 29,
     "metadata": {},
     "output_type": "execute_result"
    }
   ],
   "source": [
    "cli.test.collection_names()"
   ]
  },
  {
   "cell_type": "code",
   "execution_count": 30,
   "metadata": {
    "collapsed": false,
    "deletable": true,
    "editable": true
   },
   "outputs": [
    {
     "data": {
      "text/plain": [
       "{'_id_': {'key': [('_id', 1)], 'ns': 'test.restaurants', 'v': 1},\n",
       " 'cuisine_1_name_1': {'background': True,\n",
       "  'key': [('cuisine', 1), ('name', 1)],\n",
       "  'ns': 'test.restaurants',\n",
       "  'v': 1},\n",
       " 'restaurant_id_1': {'key': [('restaurant_id', 1)],\n",
       "  'ns': 'test.restaurants',\n",
       "  'v': 1}}"
      ]
     },
     "execution_count": 30,
     "metadata": {},
     "output_type": "execute_result"
    }
   ],
   "source": [
    "cli.test.restaurants.index_information()"
   ]
  },
  {
   "cell_type": "code",
   "execution_count": 40,
   "metadata": {
    "collapsed": false
   },
   "outputs": [
    {
     "data": {
      "text/plain": [
       "{'avgObjSize': 44.704464389700725,\n",
       " 'collections': 10,\n",
       " 'dataSize': 47212966.0,\n",
       " 'db': 'test',\n",
       " 'indexSize': 10653696.0,\n",
       " 'indexes': 14,\n",
       " 'numExtents': 0,\n",
       " 'objects': 1056113,\n",
       " 'ok': 1.0,\n",
       " 'storageSize': 26599424.0,\n",
       " 'views': 0}"
      ]
     },
     "execution_count": 40,
     "metadata": {},
     "output_type": "execute_result"
    }
   ],
   "source": [
    "db.command({'dbStats': 1})"
   ]
  },
  {
   "cell_type": "code",
   "execution_count": 42,
   "metadata": {
    "collapsed": false,
    "deletable": true,
    "editable": true
   },
   "outputs": [
    {
     "data": {
      "text/plain": [
       "{'avgObjSize': 418,\n",
       " 'capped': False,\n",
       " 'count': 25359,\n",
       " 'indexDetails': {'_id_': {'LSM': {'bloom filter false positives': 0,\n",
       "    'bloom filter hits': 0,\n",
       "    'bloom filter misses': 0,\n",
       "    'bloom filter pages evicted from cache': 0,\n",
       "    'bloom filter pages read into cache': 0,\n",
       "    'bloom filters in the LSM tree': 0,\n",
       "    'chunks in the LSM tree': 0,\n",
       "    'highest merge generation in the LSM tree': 0,\n",
       "    'queries that could have benefited from a Bloom filter that did not exist': 0,\n",
       "    'sleep for LSM checkpoint throttle': 0,\n",
       "    'sleep for LSM merge throttle': 0,\n",
       "    'total size of bloom filters': 0},\n",
       "   'block-manager': {'allocations requiring file extension': 19,\n",
       "    'blocks allocated': 19,\n",
       "    'blocks freed': 0,\n",
       "    'checkpoint size': 204800,\n",
       "    'file allocation unit size': 4096,\n",
       "    'file bytes available for reuse': 0,\n",
       "    'file magic number': 120897,\n",
       "    'file major version number': 1,\n",
       "    'file size in bytes': 217088,\n",
       "    'minor version number': 0},\n",
       "   'btree': {'btree checkpoint generation': 104,\n",
       "    'column-store fixed-size leaf pages': 0,\n",
       "    'column-store internal pages': 0,\n",
       "    'column-store variable-size RLE encoded values': 0,\n",
       "    'column-store variable-size deleted values': 0,\n",
       "    'column-store variable-size leaf pages': 0,\n",
       "    'fixed-record size': 0,\n",
       "    'maximum internal page key size': 1228,\n",
       "    'maximum internal page size': 16384,\n",
       "    'maximum leaf page key size': 1228,\n",
       "    'maximum leaf page size': 16384,\n",
       "    'maximum leaf page value size': 6144,\n",
       "    'maximum tree depth': 3,\n",
       "    'number of key/value pairs': 0,\n",
       "    'overflow pages': 0,\n",
       "    'pages rewritten by compaction': 0,\n",
       "    'row-store internal pages': 0,\n",
       "    'row-store leaf pages': 0},\n",
       "   'cache': {'bytes currently in the cache': 1991143,\n",
       "    'bytes read into cache': 0,\n",
       "    'bytes written from cache': 203254,\n",
       "    'checkpoint blocked page eviction': 0,\n",
       "    'data source pages selected for eviction unable to be evicted': 0,\n",
       "    'hazard pointer blocked page eviction': 0,\n",
       "    'in-memory page passed criteria to be split': 0,\n",
       "    'in-memory page splits': 0,\n",
       "    'internal pages evicted': 0,\n",
       "    'internal pages split during eviction': 0,\n",
       "    'leaf pages split during eviction': 0,\n",
       "    'modified pages evicted': 0,\n",
       "    'overflow pages read into cache': 0,\n",
       "    'overflow values cached in memory': 0,\n",
       "    'page split during eviction deepened the tree': 0,\n",
       "    'page written requiring lookaside records': 0,\n",
       "    'pages read into cache': 0,\n",
       "    'pages read into cache requiring lookaside entries': 0,\n",
       "    'pages requested from the cache': 25359,\n",
       "    'pages written from cache': 18,\n",
       "    'pages written requiring in-memory restoration': 0,\n",
       "    'unmodified pages evicted': 0},\n",
       "   'cache_walk': {'Average difference between current eviction generation when the page was last considered': 0,\n",
       "    'Average on-disk page image size seen': 0,\n",
       "    'Clean pages currently in cache': 0,\n",
       "    'Current eviction generation': 0,\n",
       "    'Dirty pages currently in cache': 0,\n",
       "    'Entries in the root page': 0,\n",
       "    'Internal pages currently in cache': 0,\n",
       "    'Leaf pages currently in cache': 0,\n",
       "    'Maximum difference between current eviction generation when the page was last considered': 0,\n",
       "    'Maximum page size seen': 0,\n",
       "    'Minimum on-disk page image size seen': 0,\n",
       "    'On-disk page image sizes smaller than a single allocation unit': 0,\n",
       "    'Pages created in memory and never written': 0,\n",
       "    'Pages currently queued for eviction': 0,\n",
       "    'Pages that could not be queued for eviction': 0,\n",
       "    'Refs skipped during cache traversal': 0,\n",
       "    'Size of the root page': 0,\n",
       "    'Total number of pages currently in cache': 0},\n",
       "   'compression': {'compressed pages read': 0,\n",
       "    'compressed pages written': 0,\n",
       "    'page written failed to compress': 0,\n",
       "    'page written was too small to compress': 0,\n",
       "    'raw compression call failed, additional data available': 0,\n",
       "    'raw compression call failed, no additional data available': 0,\n",
       "    'raw compression call succeeded': 0},\n",
       "   'creationString': 'access_pattern_hint=none,allocation_size=4KB,app_metadata=(formatVersion=6,infoObj={ \"v\" : 1, \"key\" : { \"_id\" : 1 }, \"name\" : \"_id_\", \"ns\" : \"test.restaurants\" }),block_allocation=best,block_compressor=,cache_resident=false,checksum=on,colgroups=,collator=,columns=,dictionary=0,encryption=(keyid=,name=),exclusive=false,extractor=,format=btree,huffman_key=,huffman_value=,ignore_in_memory_cache_size=false,immutable=false,internal_item_max=0,internal_key_max=0,internal_key_truncate=true,internal_page_max=16k,key_format=u,key_gap=10,leaf_item_max=0,leaf_key_max=0,leaf_page_max=16k,leaf_value_max=0,log=(enabled=true),lsm=(auto_throttle=true,bloom=true,bloom_bit_count=16,bloom_config=,bloom_hash_count=8,bloom_oldest=false,chunk_count_limit=0,chunk_max=5GB,chunk_size=10MB,merge_max=15,merge_min=0),memory_page_max=5MB,os_cache_dirty_max=0,os_cache_max=0,prefix_compression=true,prefix_compression_min=4,source=,split_deepen_min_child=0,split_deepen_per_child=0,split_pct=75,type=file,value_format=u',\n",
       "   'cursor': {'bulk-loaded cursor-insert calls': 0,\n",
       "    'create calls': 2,\n",
       "    'cursor-insert key and value bytes inserted': 430080,\n",
       "    'cursor-remove key bytes removed': 0,\n",
       "    'cursor-update value bytes updated': 0,\n",
       "    'insert calls': 25359,\n",
       "    'next calls': 0,\n",
       "    'prev calls': 0,\n",
       "    'remove calls': 0,\n",
       "    'reset calls': 25359,\n",
       "    'restarted searches': 0,\n",
       "    'search calls': 0,\n",
       "    'search near calls': 0,\n",
       "    'truncate calls': 0,\n",
       "    'update calls': 0},\n",
       "   'metadata': {'formatVersion': 6,\n",
       "    'infoObj': '{ \"v\" : 1, \"key\" : { \"_id\" : 1 }, \"name\" : \"_id_\", \"ns\" : \"test.restaurants\" }'},\n",
       "   'reconciliation': {'dictionary matches': 0,\n",
       "    'fast-path pages deleted': 0,\n",
       "    'internal page key bytes discarded using suffix compression': 32,\n",
       "    'internal page multi-block writes': 0,\n",
       "    'internal-page overflow keys': 0,\n",
       "    'leaf page key bytes discarded using prefix compression': 304188,\n",
       "    'leaf page multi-block writes': 1,\n",
       "    'leaf-page overflow keys': 0,\n",
       "    'maximum blocks required for a page': 17,\n",
       "    'overflow values written': 0,\n",
       "    'page checksum matches': 0,\n",
       "    'page reconciliation calls': 2,\n",
       "    'page reconciliation calls for eviction': 0,\n",
       "    'pages deleted': 0},\n",
       "   'session': {'object compaction': 0, 'open cursor count': 0},\n",
       "   'transaction': {'update conflicts': 0},\n",
       "   'type': 'file',\n",
       "   'uri': 'statistics:table:index-15--6924593969405042036'},\n",
       "  'cuisine_1_name_1': {'LSM': {'bloom filter false positives': 0,\n",
       "    'bloom filter hits': 0,\n",
       "    'bloom filter misses': 0,\n",
       "    'bloom filter pages evicted from cache': 0,\n",
       "    'bloom filter pages read into cache': 0,\n",
       "    'bloom filters in the LSM tree': 0,\n",
       "    'chunks in the LSM tree': 0,\n",
       "    'highest merge generation in the LSM tree': 0,\n",
       "    'queries that could have benefited from a Bloom filter that did not exist': 0,\n",
       "    'sleep for LSM checkpoint throttle': 0,\n",
       "    'sleep for LSM merge throttle': 0,\n",
       "    'total size of bloom filters': 0},\n",
       "   'block-manager': {'allocations requiring file extension': 39,\n",
       "    'blocks allocated': 39,\n",
       "    'blocks freed': 0,\n",
       "    'checkpoint size': 450560,\n",
       "    'file allocation unit size': 4096,\n",
       "    'file bytes available for reuse': 0,\n",
       "    'file magic number': 120897,\n",
       "    'file major version number': 1,\n",
       "    'file size in bytes': 462848,\n",
       "    'minor version number': 0},\n",
       "   'btree': {'btree checkpoint generation': 104,\n",
       "    'column-store fixed-size leaf pages': 0,\n",
       "    'column-store internal pages': 0,\n",
       "    'column-store variable-size RLE encoded values': 0,\n",
       "    'column-store variable-size deleted values': 0,\n",
       "    'column-store variable-size leaf pages': 0,\n",
       "    'fixed-record size': 0,\n",
       "    'maximum internal page key size': 1228,\n",
       "    'maximum internal page size': 16384,\n",
       "    'maximum leaf page key size': 1228,\n",
       "    'maximum leaf page size': 16384,\n",
       "    'maximum leaf page value size': 6144,\n",
       "    'maximum tree depth': 3,\n",
       "    'number of key/value pairs': 0,\n",
       "    'overflow pages': 0,\n",
       "    'pages rewritten by compaction': 0,\n",
       "    'row-store internal pages': 0,\n",
       "    'row-store leaf pages': 0},\n",
       "   'cache': {'bytes currently in the cache': 2578859,\n",
       "    'bytes read into cache': 0,\n",
       "    'bytes written from cache': 447399,\n",
       "    'checkpoint blocked page eviction': 0,\n",
       "    'data source pages selected for eviction unable to be evicted': 0,\n",
       "    'hazard pointer blocked page eviction': 0,\n",
       "    'in-memory page passed criteria to be split': 0,\n",
       "    'in-memory page splits': 0,\n",
       "    'internal pages evicted': 0,\n",
       "    'internal pages split during eviction': 0,\n",
       "    'leaf pages split during eviction': 0,\n",
       "    'modified pages evicted': 0,\n",
       "    'overflow pages read into cache': 0,\n",
       "    'overflow values cached in memory': 0,\n",
       "    'page split during eviction deepened the tree': 0,\n",
       "    'page written requiring lookaside records': 0,\n",
       "    'pages read into cache': 0,\n",
       "    'pages read into cache requiring lookaside entries': 0,\n",
       "    'pages requested from the cache': 25359,\n",
       "    'pages written from cache': 38,\n",
       "    'pages written requiring in-memory restoration': 0,\n",
       "    'unmodified pages evicted': 0},\n",
       "   'cache_walk': {'Average difference between current eviction generation when the page was last considered': 0,\n",
       "    'Average on-disk page image size seen': 0,\n",
       "    'Clean pages currently in cache': 0,\n",
       "    'Current eviction generation': 0,\n",
       "    'Dirty pages currently in cache': 0,\n",
       "    'Entries in the root page': 0,\n",
       "    'Internal pages currently in cache': 0,\n",
       "    'Leaf pages currently in cache': 0,\n",
       "    'Maximum difference between current eviction generation when the page was last considered': 0,\n",
       "    'Maximum page size seen': 0,\n",
       "    'Minimum on-disk page image size seen': 0,\n",
       "    'On-disk page image sizes smaller than a single allocation unit': 0,\n",
       "    'Pages created in memory and never written': 0,\n",
       "    'Pages currently queued for eviction': 0,\n",
       "    'Pages that could not be queued for eviction': 0,\n",
       "    'Refs skipped during cache traversal': 0,\n",
       "    'Size of the root page': 0,\n",
       "    'Total number of pages currently in cache': 0},\n",
       "   'compression': {'compressed pages read': 0,\n",
       "    'compressed pages written': 0,\n",
       "    'page written failed to compress': 0,\n",
       "    'page written was too small to compress': 0,\n",
       "    'raw compression call failed, additional data available': 0,\n",
       "    'raw compression call failed, no additional data available': 0,\n",
       "    'raw compression call succeeded': 0},\n",
       "   'creationString': 'access_pattern_hint=none,allocation_size=4KB,app_metadata=(formatVersion=6,infoObj={ \"v\" : 1, \"key\" : { \"cuisine\" : 1, \"name\" : 1 }, \"name\" : \"cuisine_1_name_1\", \"ns\" : \"test.restaurants\", \"background\" : true }),block_allocation=best,block_compressor=,cache_resident=false,checksum=on,colgroups=,collator=,columns=,dictionary=0,encryption=(keyid=,name=),exclusive=false,extractor=,format=btree,huffman_key=,huffman_value=,ignore_in_memory_cache_size=false,immutable=false,internal_item_max=0,internal_key_max=0,internal_key_truncate=true,internal_page_max=16k,key_format=u,key_gap=10,leaf_item_max=0,leaf_key_max=0,leaf_page_max=16k,leaf_value_max=0,log=(enabled=true),lsm=(auto_throttle=true,bloom=true,bloom_bit_count=16,bloom_config=,bloom_hash_count=8,bloom_oldest=false,chunk_count_limit=0,chunk_max=5GB,chunk_size=10MB,merge_max=15,merge_min=0),memory_page_max=5MB,os_cache_dirty_max=0,os_cache_max=0,prefix_compression=true,prefix_compression_min=4,source=,split_deepen_min_child=0,split_deepen_per_child=0,split_pct=75,type=file,value_format=u',\n",
       "   'cursor': {'bulk-loaded cursor-insert calls': 0,\n",
       "    'create calls': 1,\n",
       "    'cursor-insert key and value bytes inserted': 899536,\n",
       "    'cursor-remove key bytes removed': 0,\n",
       "    'cursor-update value bytes updated': 0,\n",
       "    'insert calls': 25359,\n",
       "    'next calls': 0,\n",
       "    'prev calls': 0,\n",
       "    'remove calls': 0,\n",
       "    'reset calls': 25359,\n",
       "    'restarted searches': 0,\n",
       "    'search calls': 0,\n",
       "    'search near calls': 0,\n",
       "    'truncate calls': 0,\n",
       "    'update calls': 0},\n",
       "   'metadata': {'formatVersion': 6,\n",
       "    'infoObj': '{ \"v\" : 1, \"key\" : { \"cuisine\" : 1, \"name\" : 1 }, \"name\" : \"cuisine_1_name_1\", \"ns\" : \"test.restaurants\", \"background\" : true }'},\n",
       "   'reconciliation': {'dictionary matches': 0,\n",
       "    'fast-path pages deleted': 0,\n",
       "    'internal page key bytes discarded using suffix compression': 563,\n",
       "    'internal page multi-block writes': 0,\n",
       "    'internal-page overflow keys': 0,\n",
       "    'leaf page key bytes discarded using prefix compression': 505909,\n",
       "    'leaf page multi-block writes': 1,\n",
       "    'leaf-page overflow keys': 0,\n",
       "    'maximum blocks required for a page': 37,\n",
       "    'overflow values written': 0,\n",
       "    'page checksum matches': 0,\n",
       "    'page reconciliation calls': 2,\n",
       "    'page reconciliation calls for eviction': 0,\n",
       "    'pages deleted': 0},\n",
       "   'session': {'object compaction': 0, 'open cursor count': 1},\n",
       "   'transaction': {'update conflicts': 0},\n",
       "   'type': 'file',\n",
       "   'uri': 'statistics:table:index-48--6924593969405042036'},\n",
       "  'restaurant_id_1': {'LSM': {'bloom filter false positives': 0,\n",
       "    'bloom filter hits': 0,\n",
       "    'bloom filter misses': 0,\n",
       "    'bloom filter pages evicted from cache': 0,\n",
       "    'bloom filter pages read into cache': 0,\n",
       "    'bloom filters in the LSM tree': 0,\n",
       "    'chunks in the LSM tree': 0,\n",
       "    'highest merge generation in the LSM tree': 0,\n",
       "    'queries that could have benefited from a Bloom filter that did not exist': 0,\n",
       "    'sleep for LSM checkpoint throttle': 0,\n",
       "    'sleep for LSM merge throttle': 0,\n",
       "    'total size of bloom filters': 0},\n",
       "   'block-manager': {'allocations requiring file extension': 23,\n",
       "    'blocks allocated': 23,\n",
       "    'blocks freed': 0,\n",
       "    'checkpoint size': 258048,\n",
       "    'file allocation unit size': 4096,\n",
       "    'file bytes available for reuse': 0,\n",
       "    'file magic number': 120897,\n",
       "    'file major version number': 1,\n",
       "    'file size in bytes': 270336,\n",
       "    'minor version number': 0},\n",
       "   'btree': {'btree checkpoint generation': 0,\n",
       "    'column-store fixed-size leaf pages': 0,\n",
       "    'column-store internal pages': 0,\n",
       "    'column-store variable-size RLE encoded values': 0,\n",
       "    'column-store variable-size deleted values': 0,\n",
       "    'column-store variable-size leaf pages': 0,\n",
       "    'fixed-record size': 0,\n",
       "    'maximum internal page key size': 1228,\n",
       "    'maximum internal page size': 16384,\n",
       "    'maximum leaf page key size': 1228,\n",
       "    'maximum leaf page size': 16384,\n",
       "    'maximum leaf page value size': 6144,\n",
       "    'maximum tree depth': 0,\n",
       "    'number of key/value pairs': 0,\n",
       "    'overflow pages': 0,\n",
       "    'pages rewritten by compaction': 0,\n",
       "    'row-store internal pages': 0,\n",
       "    'row-store leaf pages': 0},\n",
       "   'cache': {'bytes currently in the cache': 5857,\n",
       "    'bytes read into cache': 410,\n",
       "    'bytes written from cache': 256104,\n",
       "    'checkpoint blocked page eviction': 0,\n",
       "    'data source pages selected for eviction unable to be evicted': 0,\n",
       "    'hazard pointer blocked page eviction': 0,\n",
       "    'in-memory page passed criteria to be split': 0,\n",
       "    'in-memory page splits': 0,\n",
       "    'internal pages evicted': 0,\n",
       "    'internal pages split during eviction': 0,\n",
       "    'leaf pages split during eviction': 1,\n",
       "    'modified pages evicted': 2,\n",
       "    'overflow pages read into cache': 0,\n",
       "    'overflow values cached in memory': 0,\n",
       "    'page split during eviction deepened the tree': 0,\n",
       "    'page written requiring lookaside records': 0,\n",
       "    'pages read into cache': 1,\n",
       "    'pages read into cache requiring lookaside entries': 0,\n",
       "    'pages requested from the cache': 0,\n",
       "    'pages written from cache': 22,\n",
       "    'pages written requiring in-memory restoration': 0,\n",
       "    'unmodified pages evicted': 0},\n",
       "   'cache_walk': {'Average difference between current eviction generation when the page was last considered': 0,\n",
       "    'Average on-disk page image size seen': 0,\n",
       "    'Clean pages currently in cache': 0,\n",
       "    'Current eviction generation': 0,\n",
       "    'Dirty pages currently in cache': 0,\n",
       "    'Entries in the root page': 0,\n",
       "    'Internal pages currently in cache': 0,\n",
       "    'Leaf pages currently in cache': 0,\n",
       "    'Maximum difference between current eviction generation when the page was last considered': 0,\n",
       "    'Maximum page size seen': 0,\n",
       "    'Minimum on-disk page image size seen': 0,\n",
       "    'On-disk page image sizes smaller than a single allocation unit': 0,\n",
       "    'Pages created in memory and never written': 0,\n",
       "    'Pages currently queued for eviction': 0,\n",
       "    'Pages that could not be queued for eviction': 0,\n",
       "    'Refs skipped during cache traversal': 0,\n",
       "    'Size of the root page': 0,\n",
       "    'Total number of pages currently in cache': 0},\n",
       "   'compression': {'compressed pages read': 0,\n",
       "    'compressed pages written': 0,\n",
       "    'page written failed to compress': 0,\n",
       "    'page written was too small to compress': 0,\n",
       "    'raw compression call failed, additional data available': 0,\n",
       "    'raw compression call failed, no additional data available': 0,\n",
       "    'raw compression call succeeded': 0},\n",
       "   'creationString': 'access_pattern_hint=none,allocation_size=4KB,app_metadata=(formatVersion=6,infoObj={ \"v\" : 1, \"key\" : { \"restaurant_id\" : 1 }, \"name\" : \"restaurant_id_1\", \"ns\" : \"test.restaurants\" }),block_allocation=best,block_compressor=,cache_resident=false,checksum=on,colgroups=,collator=,columns=,dictionary=0,encryption=(keyid=,name=),exclusive=false,extractor=,format=btree,huffman_key=,huffman_value=,ignore_in_memory_cache_size=false,immutable=false,internal_item_max=0,internal_key_max=0,internal_key_truncate=true,internal_page_max=16k,key_format=u,key_gap=10,leaf_item_max=0,leaf_key_max=0,leaf_page_max=16k,leaf_value_max=0,log=(enabled=true),lsm=(auto_throttle=true,bloom=true,bloom_bit_count=16,bloom_config=,bloom_hash_count=8,bloom_oldest=false,chunk_count_limit=0,chunk_max=5GB,chunk_size=10MB,merge_max=15,merge_min=0),memory_page_max=5MB,os_cache_dirty_max=0,os_cache_max=0,prefix_compression=true,prefix_compression_min=4,source=,split_deepen_min_child=0,split_deepen_per_child=0,split_pct=75,type=file,value_format=u',\n",
       "   'cursor': {'bulk-loaded cursor-insert calls': 25359,\n",
       "    'create calls': 1,\n",
       "    'cursor-insert key and value bytes inserted': 0,\n",
       "    'cursor-remove key bytes removed': 0,\n",
       "    'cursor-update value bytes updated': 0,\n",
       "    'insert calls': 0,\n",
       "    'next calls': 0,\n",
       "    'prev calls': 0,\n",
       "    'remove calls': 0,\n",
       "    'reset calls': 0,\n",
       "    'restarted searches': 0,\n",
       "    'search calls': 0,\n",
       "    'search near calls': 0,\n",
       "    'truncate calls': 0,\n",
       "    'update calls': 0},\n",
       "   'metadata': {'formatVersion': 6,\n",
       "    'infoObj': '{ \"v\" : 1, \"key\" : { \"restaurant_id\" : 1 }, \"name\" : \"restaurant_id_1\", \"ns\" : \"test.restaurants\" }'},\n",
       "   'reconciliation': {'dictionary matches': 0,\n",
       "    'fast-path pages deleted': 0,\n",
       "    'internal page key bytes discarded using suffix compression': 141,\n",
       "    'internal page multi-block writes': 0,\n",
       "    'internal-page overflow keys': 0,\n",
       "    'leaf page key bytes discarded using prefix compression': 175333,\n",
       "    'leaf page multi-block writes': 1,\n",
       "    'leaf-page overflow keys': 0,\n",
       "    'maximum blocks required for a page': 21,\n",
       "    'overflow values written': 0,\n",
       "    'page checksum matches': 0,\n",
       "    'page reconciliation calls': 1,\n",
       "    'page reconciliation calls for eviction': 1,\n",
       "    'pages deleted': 0},\n",
       "   'session': {'object compaction': 0, 'open cursor count': 0},\n",
       "   'transaction': {'update conflicts': 0},\n",
       "   'type': 'file',\n",
       "   'uri': 'statistics:table:index-47--6924593969405042036'}},\n",
       " 'indexSizes': {'_id_': 217088,\n",
       "  'cuisine_1_name_1': 462848,\n",
       "  'restaurant_id_1': 270336},\n",
       " 'nindexes': 3,\n",
       " 'ns': 'test.restaurants',\n",
       " 'ok': 1.0,\n",
       " 'size': 10624215,\n",
       " 'storageSize': 4681728,\n",
       " 'totalIndexSize': 950272,\n",
       " 'wiredTiger': {'LSM': {'bloom filter false positives': 0,\n",
       "   'bloom filter hits': 0,\n",
       "   'bloom filter misses': 0,\n",
       "   'bloom filter pages evicted from cache': 0,\n",
       "   'bloom filter pages read into cache': 0,\n",
       "   'bloom filters in the LSM tree': 0,\n",
       "   'chunks in the LSM tree': 0,\n",
       "   'highest merge generation in the LSM tree': 0,\n",
       "   'queries that could have benefited from a Bloom filter that did not exist': 0,\n",
       "   'sleep for LSM checkpoint throttle': 0,\n",
       "   'sleep for LSM merge throttle': 0,\n",
       "   'total size of bloom filters': 0},\n",
       "  'block-manager': {'allocations requiring file extension': 385,\n",
       "   'blocks allocated': 385,\n",
       "   'blocks freed': 0,\n",
       "   'checkpoint size': 4669440,\n",
       "   'file allocation unit size': 4096,\n",
       "   'file bytes available for reuse': 0,\n",
       "   'file magic number': 120897,\n",
       "   'file major version number': 1,\n",
       "   'file size in bytes': 4681728,\n",
       "   'minor version number': 0},\n",
       "  'btree': {'btree checkpoint generation': 104,\n",
       "   'column-store fixed-size leaf pages': 0,\n",
       "   'column-store internal pages': 0,\n",
       "   'column-store variable-size RLE encoded values': 0,\n",
       "   'column-store variable-size deleted values': 0,\n",
       "   'column-store variable-size leaf pages': 0,\n",
       "   'fixed-record size': 0,\n",
       "   'maximum internal page key size': 368,\n",
       "   'maximum internal page size': 4096,\n",
       "   'maximum leaf page key size': 2867,\n",
       "   'maximum leaf page size': 32768,\n",
       "   'maximum leaf page value size': 67108864,\n",
       "   'maximum tree depth': 3,\n",
       "   'number of key/value pairs': 0,\n",
       "   'overflow pages': 0,\n",
       "   'pages rewritten by compaction': 0,\n",
       "   'row-store internal pages': 0,\n",
       "   'row-store leaf pages': 0},\n",
       "  'cache': {'bytes currently in the cache': 13248553,\n",
       "   'bytes read into cache': 0,\n",
       "   'bytes written from cache': 10813705,\n",
       "   'checkpoint blocked page eviction': 0,\n",
       "   'data source pages selected for eviction unable to be evicted': 0,\n",
       "   'hazard pointer blocked page eviction': 0,\n",
       "   'in-memory page passed criteria to be split': 2,\n",
       "   'in-memory page splits': 1,\n",
       "   'internal pages evicted': 0,\n",
       "   'internal pages split during eviction': 0,\n",
       "   'leaf pages split during eviction': 0,\n",
       "   'modified pages evicted': 0,\n",
       "   'overflow pages read into cache': 0,\n",
       "   'overflow values cached in memory': 0,\n",
       "   'page split during eviction deepened the tree': 0,\n",
       "   'page written requiring lookaside records': 0,\n",
       "   'pages read into cache': 0,\n",
       "   'pages read into cache requiring lookaside entries': 0,\n",
       "   'pages requested from the cache': 112072,\n",
       "   'pages written from cache': 384,\n",
       "   'pages written requiring in-memory restoration': 0,\n",
       "   'unmodified pages evicted': 0},\n",
       "  'cache_walk': {'Average difference between current eviction generation when the page was last considered': 0,\n",
       "   'Average on-disk page image size seen': 0,\n",
       "   'Clean pages currently in cache': 0,\n",
       "   'Current eviction generation': 0,\n",
       "   'Dirty pages currently in cache': 0,\n",
       "   'Entries in the root page': 0,\n",
       "   'Internal pages currently in cache': 0,\n",
       "   'Leaf pages currently in cache': 0,\n",
       "   'Maximum difference between current eviction generation when the page was last considered': 0,\n",
       "   'Maximum page size seen': 0,\n",
       "   'Minimum on-disk page image size seen': 0,\n",
       "   'On-disk page image sizes smaller than a single allocation unit': 0,\n",
       "   'Pages created in memory and never written': 0,\n",
       "   'Pages currently queued for eviction': 0,\n",
       "   'Pages that could not be queued for eviction': 0,\n",
       "   'Refs skipped during cache traversal': 0,\n",
       "   'Size of the root page': 0,\n",
       "   'Total number of pages currently in cache': 0},\n",
       "  'compression': {'compressed pages read': 0,\n",
       "   'compressed pages written': 381,\n",
       "   'page written failed to compress': 0,\n",
       "   'page written was too small to compress': 3,\n",
       "   'raw compression call failed, additional data available': 0,\n",
       "   'raw compression call failed, no additional data available': 0,\n",
       "   'raw compression call succeeded': 0},\n",
       "  'creationString': 'access_pattern_hint=none,allocation_size=4KB,app_metadata=(formatVersion=1),block_allocation=best,block_compressor=snappy,cache_resident=false,checksum=on,colgroups=,collator=,columns=,dictionary=0,encryption=(keyid=,name=),exclusive=false,extractor=,format=btree,huffman_key=,huffman_value=,ignore_in_memory_cache_size=false,immutable=false,internal_item_max=0,internal_key_max=0,internal_key_truncate=true,internal_page_max=4KB,key_format=q,key_gap=10,leaf_item_max=0,leaf_key_max=0,leaf_page_max=32KB,leaf_value_max=64MB,log=(enabled=true),lsm=(auto_throttle=true,bloom=true,bloom_bit_count=16,bloom_config=,bloom_hash_count=8,bloom_oldest=false,chunk_count_limit=0,chunk_max=5GB,chunk_size=10MB,merge_max=15,merge_min=0),memory_page_max=10m,os_cache_dirty_max=0,os_cache_max=0,prefix_compression=false,prefix_compression_min=4,source=,split_deepen_min_child=0,split_deepen_per_child=0,split_pct=90,type=file,value_format=u',\n",
       "  'cursor': {'bulk-loaded cursor-insert calls': 0,\n",
       "   'create calls': 16,\n",
       "   'cursor-insert key and value bytes inserted': 10691718,\n",
       "   'cursor-remove key bytes removed': 0,\n",
       "   'cursor-update value bytes updated': 0,\n",
       "   'insert calls': 25359,\n",
       "   'next calls': 1136160,\n",
       "   'prev calls': 1,\n",
       "   'remove calls': 0,\n",
       "   'reset calls': 85587,\n",
       "   'restarted searches': 0,\n",
       "   'search calls': 5260,\n",
       "   'search near calls': 85004,\n",
       "   'truncate calls': 0,\n",
       "   'update calls': 0},\n",
       "  'metadata': {'formatVersion': 1},\n",
       "  'reconciliation': {'dictionary matches': 0,\n",
       "   'fast-path pages deleted': 0,\n",
       "   'internal page key bytes discarded using suffix compression': 380,\n",
       "   'internal page multi-block writes': 1,\n",
       "   'internal-page overflow keys': 0,\n",
       "   'leaf page key bytes discarded using prefix compression': 0,\n",
       "   'leaf page multi-block writes': 2,\n",
       "   'leaf-page overflow keys': 0,\n",
       "   'maximum blocks required for a page': 257,\n",
       "   'overflow values written': 0,\n",
       "   'page checksum matches': 0,\n",
       "   'page reconciliation calls': 4,\n",
       "   'page reconciliation calls for eviction': 0,\n",
       "   'pages deleted': 0},\n",
       "  'session': {'object compaction': 0, 'open cursor count': 1},\n",
       "  'transaction': {'update conflicts': 0},\n",
       "  'type': 'file',\n",
       "  'uri': 'statistics:table:collection-14--6924593969405042036'}}"
      ]
     },
     "execution_count": 42,
     "metadata": {},
     "output_type": "execute_result"
    }
   ],
   "source": [
    "db.command({'collStats': 'restaurants'})"
   ]
  },
  {
   "cell_type": "code",
   "execution_count": 31,
   "metadata": {
    "collapsed": false,
    "deletable": true,
    "editable": true,
    "scrolled": true
   },
   "outputs": [
    {
     "data": {
      "text/plain": [
       "{'allocator': 'tcmalloc',\n",
       " 'bits': 64,\n",
       " 'buildEnvironment': {'cc': '/opt/mongodbtoolchain/v2/bin/gcc: gcc (GCC) 5.4.0',\n",
       "  'ccflags': '-fno-omit-frame-pointer -fno-strict-aliasing -ggdb -pthread -Wall -Wsign-compare -Wno-unknown-pragmas -Winvalid-pch -Werror -O2 -Wno-unused-local-typedefs -Wno-unused-function -Wno-deprecated-declarations -Wno-unused-but-set-variable -Wno-missing-braces -fstack-protector-strong -fno-builtin-memcmp',\n",
       "  'cxx': '/opt/mongodbtoolchain/v2/bin/g++: g++ (GCC) 5.4.0',\n",
       "  'cxxflags': '-Woverloaded-virtual -Wno-maybe-uninitialized -std=c++11',\n",
       "  'distarch': 'x86_64',\n",
       "  'distmod': 'debian81',\n",
       "  'linkflags': '-pthread -Wl,-z,now -rdynamic -Wl,--fatal-warnings -fstack-protector-strong -fuse-ld=gold -Wl,--build-id -Wl,-z,noexecstack -Wl,--warn-execstack -Wl,-z,relro',\n",
       "  'target_arch': 'x86_64',\n",
       "  'target_os': 'linux'},\n",
       " 'debug': False,\n",
       " 'gitVersion': '3f76e40c105fc223b3e5aac3e20dcd026b83b38b',\n",
       " 'javascriptEngine': 'mozjs',\n",
       " 'maxBsonObjectSize': 16777216,\n",
       " 'modules': [],\n",
       " 'ok': 1.0,\n",
       " 'openssl': {'compiled': 'OpenSSL 1.0.1t  3 May 2016',\n",
       "  'running': 'OpenSSL 1.0.1t  3 May 2016'},\n",
       " 'storageEngines': ['devnull', 'ephemeralForTest', 'mmapv1', 'wiredTiger'],\n",
       " 'sysInfo': 'deprecated',\n",
       " 'version': '3.4.2',\n",
       " 'versionArray': [3, 4, 2, 0]}"
      ]
     },
     "execution_count": 31,
     "metadata": {},
     "output_type": "execute_result"
    }
   ],
   "source": [
    "cli.server_info()"
   ]
  },
  {
   "cell_type": "code",
   "execution_count": 32,
   "metadata": {
    "collapsed": true,
    "deletable": true,
    "editable": true
   },
   "outputs": [],
   "source": [
    "connection_string = (\n",
    "    'mongodb://rick:packt@' + \n",
    "    'cluster0-shard-00-00-6ypgo.mongodb.net:27017,' + \n",
    "    'cluster0-shard-00-01-6ypgo.mongodb.net:27017,' + \n",
    "    'cluster0-shard-00-02-6ypgo.mongodb.net:27017/?' + \n",
    "    'ssl=true&' + \n",
    "    'replicaSet=Cluster0-shard-0&' + \n",
    "    'authSource=admin')\n",
    "cli_remote = pymongo.MongoClient(connection_string)"
   ]
  },
  {
   "cell_type": "code",
   "execution_count": 33,
   "metadata": {
    "collapsed": false,
    "deletable": true,
    "editable": true,
    "scrolled": true
   },
   "outputs": [
    {
     "data": {
      "text/plain": [
       "{'date': datetime.datetime(2017, 3, 31, 19, 25, 59, 892000),\n",
       " 'heartbeatIntervalMillis': 2000,\n",
       " 'members': [{'_id': 0,\n",
       "   'configVersion': 1,\n",
       "   'electionDate': datetime.datetime(2017, 3, 27, 1, 45, 12),\n",
       "   'electionTime': Timestamp(1490579112, 1),\n",
       "   'health': 1.0,\n",
       "   'name': 'cluster0-shard-00-00-6ypgo.mongodb.net:27017',\n",
       "   'optime': {'t': 1, 'ts': Timestamp(1490988357, 2)},\n",
       "   'optimeDate': datetime.datetime(2017, 3, 31, 19, 25, 57),\n",
       "   'self': True,\n",
       "   'state': 1,\n",
       "   'stateStr': 'PRIMARY',\n",
       "   'uptime': 409257},\n",
       "  {'_id': 1,\n",
       "   'configVersion': 1,\n",
       "   'health': 1.0,\n",
       "   'lastHeartbeat': datetime.datetime(2017, 3, 31, 19, 25, 59, 192000),\n",
       "   'lastHeartbeatRecv': datetime.datetime(2017, 3, 31, 19, 25, 59, 725000),\n",
       "   'name': 'cluster0-shard-00-01-6ypgo.mongodb.net:27017',\n",
       "   'optime': {'t': 1, 'ts': Timestamp(1490988357, 2)},\n",
       "   'optimeDate': datetime.datetime(2017, 3, 31, 19, 25, 57),\n",
       "   'optimeDurable': {'t': 1, 'ts': Timestamp(1490988357, 2)},\n",
       "   'optimeDurableDate': datetime.datetime(2017, 3, 31, 19, 25, 57),\n",
       "   'pingMs': 0,\n",
       "   'state': 2,\n",
       "   'stateStr': 'SECONDARY',\n",
       "   'syncingTo': 'cluster0-shard-00-00-6ypgo.mongodb.net:27017',\n",
       "   'uptime': 409257},\n",
       "  {'_id': 2,\n",
       "   'configVersion': 1,\n",
       "   'health': 1.0,\n",
       "   'lastHeartbeat': datetime.datetime(2017, 3, 31, 19, 25, 59, 76000),\n",
       "   'lastHeartbeatRecv': datetime.datetime(2017, 3, 31, 19, 25, 59, 76000),\n",
       "   'name': 'cluster0-shard-00-02-6ypgo.mongodb.net:27017',\n",
       "   'optime': {'t': 1, 'ts': Timestamp(1490988357, 2)},\n",
       "   'optimeDate': datetime.datetime(2017, 3, 31, 19, 25, 57),\n",
       "   'optimeDurable': {'t': 1, 'ts': Timestamp(1490988357, 2)},\n",
       "   'optimeDurableDate': datetime.datetime(2017, 3, 31, 19, 25, 57),\n",
       "   'pingMs': 0,\n",
       "   'state': 2,\n",
       "   'stateStr': 'SECONDARY',\n",
       "   'syncingTo': 'cluster0-shard-00-00-6ypgo.mongodb.net:27017',\n",
       "   'uptime': 409257}],\n",
       " 'myState': 1,\n",
       " 'ok': 1.0,\n",
       " 'optimes': {'appliedOpTime': {'t': 1, 'ts': Timestamp(1490988357, 2)},\n",
       "  'durableOpTime': {'t': 1, 'ts': Timestamp(1490988357, 2)},\n",
       "  'lastCommittedOpTime': {'t': 1, 'ts': Timestamp(1490988357, 2)}},\n",
       " 'set': 'Cluster0-shard-0',\n",
       " 'term': 1}"
      ]
     },
     "execution_count": 33,
     "metadata": {},
     "output_type": "execute_result"
    }
   ],
   "source": [
    "cli_remote.admin.command({ 'replSetGetStatus': 1 })"
   ]
  },
  {
   "cell_type": "code",
   "execution_count": null,
   "metadata": {
    "collapsed": true
   },
   "outputs": [],
   "source": []
  }
 ],
 "metadata": {
  "kernelspec": {
   "display_name": "Python 3",
   "language": "python",
   "name": "python3"
  },
  "language_info": {
   "codemirror_mode": {
    "name": "ipython",
    "version": 3
   },
   "file_extension": ".py",
   "mimetype": "text/x-python",
   "name": "python",
   "nbconvert_exporter": "python",
   "pygments_lexer": "ipython3",
   "version": "3.6.0"
  }
 },
 "nbformat": 4,
 "nbformat_minor": 2
}
